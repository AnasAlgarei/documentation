{
 "cells": [
  {
   "cell_type": "markdown",
   "metadata": {},
   "source": [
    "# Exploring `build_renewable_profiles.py` outputs\n",
    "\n",
    "This jupyter notebook analyse the `build_renewable_profiles.py` **outputs**. Outputs are timeseries of wind or solar power plants as well as the resource potential. There are two types of **potentials**, \n",
    "- technical installable power potential [MW] which does not need profiles (area demand per tech. MW/km^2 * general available area m^2 * availability factor) \n",
    "- technical 'resource' energy potential [MWh] which needs hourly per unit profiles & the above power potential\n",
    "\n",
    "This notebook looks at both.\n",
    "\n",
    "The `pypsa-africa/Snakefile` explicitly list in the **rule** what goes into the function `build_renewable_profiles.py` and what goes out (`build_renewable_profiles_{technology}.nc`). So to create the renewable timeseries, we need to provide:\n",
    "- the base_network\n",
    "- natura raster, areas where renewables are excluded i.e. areas under protection (generated in `build_natura_raster`)\n",
    "- copernicus, global land cover data (classifies land data)\n",
    "- gebco, bathemetry data (deepness of sea)\n",
    "- cutout, environmental data timeseries such as wind speed and irradiation\n",
    "```\n",
    "rule build_renewable_profiles:\n",
    "    input:\n",
    "        base_network=\"networks/base.nc\",\n",
    "        natura=\"resources/natura.tiff\",\n",
    "        copernicus=\"data/raw/copernicus/PROBAV_LC100_global_v3.0.1_2019-nrt_Discrete-Classification-map_EPSG-4326.tif\",\n",
    "        gebco=\"data/raw/gebco/GEBCO_2021_TID.nc\",\n",
    "        country_shapes='resources/country_shapes.geojson',\n",
    "        offshore_shapes='resources/offshore_shapes.geojson',\n",
    "        regions=lambda w: (\"resources/regions_onshore.geojson\"\n",
    "                                   if w.technology in ('onwind', 'solar', \"hydro\")\n",
    "                                   else \"resources/regions_offshore.geojson\"),\n",
    "        cutout=lambda w: \"cutouts/\" + config[\"renewable\"][w.technology]['cutout'] + \".nc\",\n",
    "    output: profile=\"resources/profile_{technology}.nc\",\n",
    "    log: \"logs/build_renewable_profile_{technology}.log\"\n",
    "    benchmark: \"benchmarks/build_renewable_profiles_{technology}\"\n",
    "    threads: ATLITE_NPROCESSES\n",
    "    resources: mem=ATLITE_NPROCESSES * 5000\n",
    "    script: \"scripts/build_renewable_profiles.py\"\n",
    "```\n",
    "\n",
    "\n",
    "Before analysing the outputs of add_electricity.py check that:\n",
    "- `pypsa-africa` environment (/kernel) in jupyter notebook  is active and updated\n",
    "- root folder where pypsa-africa is installed is named \"pypsa-africa\"\n",
    "- or rename the below `sets_path_to_root(\"<folder_name>\")` accordingly"
   ]
  },
  {
   "cell_type": "code",
   "execution_count": 1,
   "metadata": {},
   "outputs": [],
   "source": [
    "import os\n",
    "import sys\n",
    "\n",
    "sys.path.append(\"../\")  # to import helpers\n",
    "from scripts._helpers import sets_path_to_root\n",
    "\n",
    "sets_path_to_root(\"pypsa-africa\")"
   ]
  },
  {
   "cell_type": "markdown",
   "metadata": {},
   "source": [
    "A jupyter notebook requires the user to import all they need. So we need to import all the required dependencies from the `pypsa-africa` environment:"
   ]
  },
  {
   "cell_type": "code",
   "execution_count": 2,
   "metadata": {},
   "outputs": [],
   "source": [
    "import atlite\n",
    "import cartopy.crs as ccrs\n",
    "import cartopy\n",
    "import xarray as xr\n",
    "import geopandas as gpd\n",
    "\n",
    "# import holoviews as hv\n",
    "import pandas as pd\n",
    "import matplotlib.pyplot as plt\n",
    "import numpy as np\n",
    "import requests\n",
    "import pypsa\n",
    "import shutil\n",
    "from rasterio.plot import show\n",
    "from atlite.gis import shape_availability, ExclusionContainer\n",
    "\n",
    "\n",
    "plt.rcParams[\"figure.figsize\"] = [7, 7]\n",
    "%matplotlib inline"
   ]
  },
  {
   "cell_type": "markdown",
   "metadata": {},
   "source": [
    "## Generate profiles (if not already available)"
   ]
  },
  {
   "cell_type": "markdown",
   "metadata": {},
   "source": [
    "If you don't have the renewable profiles such as:\n",
    "- `resources/profile_solar.nc`\n",
    "- `resources/profile_onwind.nc`\n",
    "- `resources/profile_offwind-ac.nc`\n",
    "\n",
    "you could try to generate them from the terminal. In this case set the path so that you are located at ~/pypsa-africa. Once you are there, use the command:\n",
    "\n",
    "```\n",
    "snakemake -j 1 resources/profile_{technology}.nc\n",
    "```\n",
    "\n",
    "replace {technology} for the timeseries of interest."
   ]
  },
  {
   "cell_type": "markdown",
   "metadata": {},
   "source": [
    "## Let's open the profiles\n",
    "The `build_renewable_profiles` for each technology are stored in the `resources` folder. We read first the path and open then with xarray the .nc file. As you can see there is quite a lot data available.  What you should note is that only the `potential` is grided (can be shown in a nice raster on a map). From the `profiles` we can only retrieve timeseries data without mapping it."
   ]
  },
  {
   "cell_type": "code",
   "execution_count": 3,
   "metadata": {},
   "outputs": [],
   "source": [
    "solar_path = os.path.realpath(\"resources\") + \"/profile_solar.nc\"\n",
    "solar = xr.open_dataset(solar_path)\n",
    "\n",
    "wind_path = os.path.realpath(\"resources\") + \"/profile_onwind.nc\"\n",
    "wind = xr.open_dataset(wind_path)\n",
    "wind"
   ]
  },
  {
   "cell_type": "markdown",
   "metadata": {},
   "source": [
    "### Technical installable power potential [GW]"
   ]
  },
  {
   "cell_type": "code",
   "execution_count": 4,
   "metadata": {},
   "outputs": [],
   "source": [
    "def plot_raster(\n",
    "    data,\n",
    "    region,\n",
    "    cmap=\"Blues\",\n",
    "    figsize=(10, 10),\n",
    "    projection=ccrs.PlateCarree(),\n",
    "    cb_label=\"potential\",\n",
    "    gridlabels=False,\n",
    "    title=\"title\",\n",
    "    filename=None,\n",
    "    format=\"pdf\",\n",
    "):\n",
    "    # beauty therapy for plots\n",
    "    font_scale = figsize[0] / 10  # according to width\n",
    "    plt.rcParams.update({\"font.size\": 17 * font_scale})\n",
    "    fig, ax = plt.subplots(figsize=figsize, subplot_kw={\"projection\": projection})\n",
    "\n",
    "    # onshore potential raster\n",
    "    (data / 1000).plot(\n",
    "        ax=ax,\n",
    "        cmap=cmap,\n",
    "        edgecolor=\"grey\",\n",
    "        linestyle=\":\",\n",
    "        add_colorbar=True,\n",
    "        cbar_kwargs={\"shrink\": 1, \"label\": cb_label},\n",
    "    )\n",
    "\n",
    "    # black edge around country or continent shape\n",
    "    world = gpd.read_file(gpd.datasets.get_path(\"naturalearth_lowres\"))\n",
    "    shapes_country = world[world.name.isin(region)]\n",
    "    shapes_continent = world[world.continent.isin(region)]\n",
    "    shapes = pd.concat([shapes_country, shapes_continent])\n",
    "    shapes.plot(ax=ax, edgecolor=\"k\", color=\"None\")\n",
    "\n",
    "    # set extent\n",
    "    buffer = 0.5\n",
    "    minx, miny, maxx, maxy = (shapes.to_crs(ccrs.PlateCarree()).bounds).values.flatten()\n",
    "    minx, miny = [minx - buffer, miny - buffer]\n",
    "    maxx, maxy = [maxx + buffer, maxy + buffer]\n",
    "    ax.set_extent([minx, maxx, miny, maxy], crs=ccrs.PlateCarree())  # Nigeria\n",
    "    #  ax.set_extent([-23, 55, -35, 40], crs=ccrs.PlateCarree())  #  Africa\n",
    "\n",
    "    if gridlabels == True:\n",
    "        gl = ax.gridlines(crs=ccrs.PlateCarree(), draw_labels=True)\n",
    "        gl.top_labels = False\n",
    "        gl.right_labels = False\n",
    "        gl.xlines = False\n",
    "        gl.ylines = False\n",
    "        gl.xlabel_style = {\"size\": 12 * font_scale}\n",
    "        gl.ylabel_style = {\"size\": 12 * font_scale}\n",
    "\n",
    "    if title is not None:\n",
    "        plt.title(title)\n",
    "\n",
    "    if filename is not None:\n",
    "        plt.savefig(filename, bbox_inches=\"tight\", format=\"pdf\")"
   ]
  },
  {
   "cell_type": "code",
   "execution_count": 5,
   "metadata": {},
   "outputs": [],
   "source": [
    "plot_raster(\n",
    "    wind.potential,\n",
    "    [\"Nigeria\"],\n",
    "    cmap=\"Blues\",\n",
    "    figsize=(8, 4),\n",
    "    projection=ccrs.PlateCarree(),\n",
    "    cb_label=\"potential\",\n",
    "    gridlabels=False,\n",
    "    title=\"Onshore Wind Potential [GW]\",\n",
    "    # filename=\"rasterized-onshore-wind-potential.pdf\",\n",
    "    format=\"pdf\",\n",
    ")"
   ]
  },
  {
   "cell_type": "code",
   "execution_count": 6,
   "metadata": {},
   "outputs": [],
   "source": [
    "plot_raster(\n",
    "    solar.potential,\n",
    "    [\"Nigeria\"],\n",
    "    cmap=\"OrRd\",\n",
    "    figsize=(8, 4),\n",
    "    projection=ccrs.PlateCarree(),\n",
    "    cb_label=\"potential\",\n",
    "    gridlabels=False,\n",
    "    title=\"Solar Photovoltaic Potential [GW]\",\n",
    "    # filename=\"rasterized-solvar-pv-potential.pdf\",\n",
    "    format=\"pdf\",\n",
    ")"
   ]
  },
  {
   "cell_type": "markdown",
   "metadata": {},
   "source": [
    "### Technical installable potential in bus regions. Provided by Fabian Neumann."
   ]
  },
  {
   "cell_type": "code",
   "execution_count": 7,
   "metadata": {},
   "outputs": [],
   "source": [
    "def plot_map(data, cmap, projection, voronoi=None, title=None, filename=None):\n",
    "    plt.rcParams.update({\"font.size\": 12})\n",
    "    fig, ax = plt.subplots(figsize=(8, 4), subplot_kw={\"projection\": projection})\n",
    "    data.plot.imshow(\n",
    "        ax=ax, transform=ccrs.PlateCarree(), cmap=cmap, label=\"potential [MW]\"\n",
    "    )\n",
    "    # contourf\n",
    "    ax.coastlines()\n",
    "    ax.add_feature(cartopy.feature.BORDERS.with_scale(\"110m\"))\n",
    "    ax.set_extent([2, 14.5, 3, 14], crs=ccrs.PlateCarree())  # Nigeria\n",
    "    #  ax.set_extent([-23, 55, -35, 40], crs=ccrs.PlateCarree())  # Africa\n",
    "    resource_path = os.path.realpath(\"resources\")\n",
    "    if voronoi == \"onshore\":\n",
    "        br = gpd.read_file(f\"{resource_path}/regions_{voronoi}.geojson\")\n",
    "        br.plot(\n",
    "            ax=ax,\n",
    "            transform=ccrs.PlateCarree(),\n",
    "            facecolor=\"none\",\n",
    "            linewidth=0.25,\n",
    "            edgecolor=\"k\",\n",
    "        )\n",
    "    elif voronoi == \"offshore\":\n",
    "        br = gpd.read_file(f\"{resource_path}/regions_{voronoi}.geojson\")\n",
    "        br.plot(\n",
    "            ax=ax,\n",
    "            transform=ccrs.PlateCarree(),\n",
    "            facecolor=\"none\",\n",
    "            linewidth=0.25,\n",
    "            edgecolor=\"k\",\n",
    "        )\n",
    "\n",
    "    if title is not None:\n",
    "        plt.title(title)\n",
    "\n",
    "    if filename is not None:\n",
    "        plt.savefig(filename, bbox_inches=\"tight\", format=\"pdf\")"
   ]
  },
  {
   "cell_type": "code",
   "execution_count": 8,
   "metadata": {},
   "outputs": [],
   "source": [
    "plot_map(\n",
    "    wind.potential / 1000,\n",
    "    \"Blues\",\n",
    "    ccrs.Orthographic(),\n",
    "    voronoi=\"onshore\",\n",
    "    title=\"Onshore Wind Potential [GW]\",\n",
    "    # filename=\"onwind-gridcell.pdf\",\n",
    ")"
   ]
  },
  {
   "cell_type": "code",
   "execution_count": 9,
   "metadata": {},
   "outputs": [],
   "source": [
    "plot_map(\n",
    "    solar.potential / 1000,\n",
    "    \"OrRd\",\n",
    "    ccrs.Orthographic(),\n",
    "    voronoi=\"onshore\",\n",
    "    title=\"Solar Photovoltaic Potential [GW]\",\n",
    "    # filename=\"solar-gridcell.pdf\",\n",
    ")"
   ]
  },
  {
   "cell_type": "markdown",
   "metadata": {},
   "source": [
    "### Technical 'resource' energy potential [TWh]"
   ]
  },
  {
   "cell_type": "code",
   "execution_count": 10,
   "metadata": {},
   "outputs": [],
   "source": [
    "technical_solar_potential_twh = (\n",
    "    sum(solar[\"p_nom_max\"] * solar[\"profile\"]).sum() / 10**6\n",
    ")  # MWh to TWH conversion\n",
    "technical_wind_potential_twh = (\n",
    "    sum(wind[\"p_nom_max\"] * wind[\"profile\"]).sum() / 10**6\n",
    ")  # MWh to TWH conversion\n",
    "\n",
    "print(\n",
    "    f\"Technical solar potential: {technical_solar_potential_twh.values} \\n\",\n",
    "    f\"Technical wind potential: {technical_wind_potential_twh.values}\",\n",
    ")"
   ]
  },
  {
   "cell_type": "markdown",
   "metadata": {},
   "source": [
    "## Timeseries\n",
    "Timeseris plots are helpful to analyse the seasonality and general variability. Below we show how you could plot some of these."
   ]
  },
  {
   "cell_type": "code",
   "execution_count": 11,
   "metadata": {},
   "outputs": [],
   "source": [
    "plt.rcParams.update({\"font.size\": 15})\n",
    "fig, ax = plt.subplots(figsize=(10, 5))\n",
    "\n",
    "# max_installable_capacity [MX] * profiles [p.u.]\n",
    "solar_profile_mw = solar[\"p_nom_max\"] * solar[\"profile\"]\n",
    "\n",
    "solar_profile_mw.sel(bus=\"0\", time=slice(\"2013-06-01\", \"2013-06-04\")).plot(\n",
    "    ax=ax, linewidth=3\n",
    ")\n",
    "ax.set_xlabel(None)\n",
    "ax.set_ylabel(\"Solar power output\")\n",
    "ax.set_title(None)\n",
    "\n",
    "plt.savefig(\"solar-power-profile.pdf\", bbox_inches=\"tight\")"
   ]
  },
  {
   "cell_type": "code",
   "execution_count": 12,
   "metadata": {},
   "outputs": [],
   "source": [
    "plt.rcParams.update({\"font.size\": 15})\n",
    "fig, ax = plt.subplots(figsize=(10, 5))\n",
    "\n",
    "# max_installable_capacity [MX] * profiles [p.u.]\n",
    "wind_profile_mw = wind[\"p_nom_max\"] * wind[\"profile\"]\n",
    "\n",
    "wind_profile_mw.sel(bus=\"5\", time=slice(\"2013-06-01\", \"2013-06-04\")).plot(\n",
    "    ax=ax, linewidth=3\n",
    ")\n",
    "ax.set_xlabel(None)\n",
    "ax.set_ylabel(\"Wind power output [MW]\")\n",
    "ax.set_title(None)\n",
    "\n",
    "plt.savefig(\"onshore-wind-power-profile.pdf\", bbox_inches=\"tight\")"
   ]
  },
  {
   "cell_type": "code",
   "execution_count": 13,
   "metadata": {},
   "outputs": [],
   "source": [
    "plt.rcParams.update({\"font.size\": 10})\n",
    "solar[\"profile\"].isel(bus=sum(range(10)), time=range(0, 1000)).plot()"
   ]
  },
  {
   "cell_type": "markdown",
   "metadata": {},
   "source": [
    "## Open hydro profile and plot"
   ]
  },
  {
   "cell_type": "code",
   "execution_count": 14,
   "metadata": {},
   "outputs": [],
   "source": [
    "# res_t_path_h = os.path.realpath(\"resources\") + \"/profile_hydro.nc\"\n",
    "# res_h = xr.open_dataset(res_t_path_h)"
   ]
  },
  {
   "cell_type": "code",
   "execution_count": 15,
   "metadata": {},
   "outputs": [],
   "source": [
    "# res_h.inflow.plot.line(x=\"time\")"
   ]
  }
 ],
 "metadata": {
  "@webio": {
   "lastCommId": null,
   "lastKernelId": null
  },
  "kernelspec": {
   "display_name": "pypsa-africa",
   "language": "python",
   "name": "pypsa-africa"
  },
  "language_info": {
   "codemirror_mode": {
    "name": "ipython",
    "version": 3
   },
   "file_extension": ".py",
   "mimetype": "text/x-python",
   "name": "python",
   "nbconvert_exporter": "python",
   "pygments_lexer": "ipython3",
   "version": "3.9.13"
  }
 },
 "nbformat": 4,
 "nbformat_minor": 4
}
