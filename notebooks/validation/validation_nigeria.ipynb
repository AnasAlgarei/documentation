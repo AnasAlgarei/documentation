{
 "cells": [
  {
   "cell_type": "markdown",
   "metadata": {},
   "source": [
    "# Validation of Nigeria model\n",
    "\n",
    "This notebooks investigates the results obtained by pypsa-africa model for the Nigeria case.\n",
    "In particular, public information of the power system of Nigeria are compared to those used and obtained from the pypsa-africa model.\n",
    "\n",
    "The following quantities will be reviewed:\n",
    "- inputs used by the pypsa-model:\n",
    "  - network characteristics\n",
    "  - substations\n",
    "  - installed generation by type\n",
    "- outputs of the simulation\n",
    "  - demand\n",
    "  - energy production shares\n",
    "\n",
    "To properly reproduce the findings obtained in this notebook, please run the full snakemake procedure on the Nigeria case only.\n",
    "To do so, please set ``countries = [\"NG\"]`` in the ``config.yaml`` file."
   ]
  },
  {
   "cell_type": "markdown",
   "metadata": {},
   "source": [
    "## Preparation"
   ]
  },
  {
   "cell_type": "markdown",
   "metadata": {},
   "source": [
    "### Set main directory to root folder"
   ]
  },
  {
   "cell_type": "code",
   "execution_count": 1,
   "metadata": {},
   "outputs": [],
   "source": [
    "# set current folders\n",
    "\n",
    "import sys\n",
    "\n",
    "sys.path.append(\"../../\")  # to import helpers\n",
    "\n",
    "from scripts._helpers import sets_path_to_root\n",
    "\n",
    "sets_path_to_root(\"pypsa-africa\")"
   ]
  },
  {
   "cell_type": "markdown",
   "metadata": {},
   "source": [
    "### Definition of main folder paths"
   ]
  },
  {
   "cell_type": "code",
   "execution_count": 2,
   "metadata": {},
   "outputs": [],
   "source": [
    "import os\n",
    "\n",
    "# OSM raw data files\n",
    "substations_OSMraw_path = (\n",
    "    os.getcwd() + \"/resources/osm/raw/africa_all_raw_substations.geojson\"\n",
    ")\n",
    "lines_OSMraw_path = os.getcwd() + \"/resources/osm/raw/africa_all_raw_lines.geojson\"\n",
    "\n",
    "# cleaned osm data files\n",
    "substations_OSMclean_path = (\n",
    "    os.getcwd() + \"/resources/osm/clean/africa_all_substations.geojson\"\n",
    ")\n",
    "lines_OSMclean_path = os.getcwd() + \"/resources/osm/clean/africa_all_lines.geojson\"\n",
    "\n",
    "# shapes files\n",
    "countries_shape_path = os.getcwd() + \"/resources/shapes/shapes/country_shapes.geojson\"\n",
    "\n",
    "# solve network output\n",
    "solved_network_path = os.getcwd() + \"/results/networks/elec_s_54_ec_lcopt_Co2L-1H.nc\""
   ]
  },
  {
   "cell_type": "markdown",
   "metadata": {},
   "source": [
    "### Import packages"
   ]
  },
  {
   "cell_type": "code",
   "execution_count": 3,
   "metadata": {},
   "outputs": [],
   "source": [
    "# import packages\n",
    "\n",
    "import logging\n",
    "import os\n",
    "\n",
    "import pypsa\n",
    "import yaml\n",
    "import pandas as pd\n",
    "import geopandas as gpd\n",
    "import numpy as np\n",
    "import scipy as sp\n",
    "import networkx as nx\n",
    "import matplotlib.pyplot as plt\n",
    "import cartopy.crs as ccrs\n",
    "from cartopy.io.img_tiles import OSM\n",
    "import cartopy.feature as cfeature\n",
    "\n",
    "from scipy.sparse import csgraph\n",
    "from itertools import product\n",
    "import re\n",
    "\n",
    "from shapely.geometry import Point, LineString\n",
    "import shapely, shapely.prepared\n",
    "from shapely.wkt import loads\n",
    "from shapely.validation import make_valid\n",
    "\n",
    "logger = logging.getLogger(__name__)\n",
    "\n",
    "pd.set_option(\"display.max_columns\", None)\n",
    "pd.set_option(\"display.max_colwidth\", 70)"
   ]
  },
  {
   "cell_type": "markdown",
   "metadata": {},
   "source": [
    "## 1. Analysis of network of the Nigeria case\n",
    "\n",
    "In this subsection, the data publicy on the network power system are compared. In particular, the main data that are being compared are:\n",
    "- Layout of the network as shown by images (Section 1.1)\n",
    "- Total length of the line (Section 1.2)\n",
    "\n",
    "The data used for the comparison have been taken from public reliable sources, with strong focus on the website of the Nigerian Transmission operator: Nigerian Transmission Company ([TCN](https://www.tcn.org.ng/)).\n",
    "\n",
    "In the Section 1.1, the network layout obtained by the workflow is drawn to be possibly compared with the image as shown in the public website of the [Nigerian Transmission System Operator](https://www.tcn.org.ng/). The image below, dated 2016, available from the [Nigerian Transmission System Operator](https://www.tcn.org.ng/), depicts the national power grid of Nigeria.\n",
    "\n",
    "![Nigerian transmission system](../../images/Nigeria_data/Nigeria_network_map.png)\n",
    "[Source link](https://www.tcn.org.ng/repository/maps/GRID%20MAP%20FOR%20EXISTING%20TRANSMISSION%20AND%20GENERATION%20NETWORK.pdf)\n",
    "\n",
    "In the Section 1.2, the network length as obtained from the workflow is calculated to then be compared with the information reported by the Nigerian TSO. According to the data available from the [Transmission Company of Nigeria (ISO)](https://nerc.gov.ng/index.php/home/nesi/404-transmission), in Nigeria, there are:\n",
    "\n",
    "- \\> 20000km lines\n",
    "- \\> 7500MW line capacity\n",
    "\n",
    "These information shall be close to those obtained by the workflow."
   ]
  },
  {
   "cell_type": "markdown",
   "metadata": {},
   "source": [
    "### 1.1. Network layout (using OSM clean data)\n",
    "\n",
    "In this section, the cleaned OSM data are used to draw plots of the entire network, to reproduce the image available from the Nigerian TSO and verify the quality of the pypsa-africa model."
   ]
  },
  {
   "cell_type": "markdown",
   "metadata": {},
   "source": [
    "#### 1.1.1. Load clean OSM data"
   ]
  },
  {
   "cell_type": "code",
   "execution_count": 4,
   "metadata": {},
   "outputs": [],
   "source": [
    "# load substation geodataframe\n",
    "df_substations_osm_clean = gpd.read_file(\n",
    "    substations_OSMclean_path\n",
    ")  # .to_crs(epsg=3857)\n",
    "# df_substations_osm_clean = df_substations_osm_clean[\n",
    "#     df_substations_osm_clean.country == \"NG\"\n",
    "# ]\n",
    "df_substations_osm_clean[\"geometry\"] = df_substations_osm_clean[\"geometry\"].apply(\n",
    "    make_valid\n",
    ")\n",
    "# load lines geodataframe\n",
    "df_lines_osm_clean = gpd.read_file(lines_OSMclean_path)  # .to_crs(epsg=3857)\n",
    "# df_lines_osm_clean = df_lines_osm_clean[df_lines_osm_clean.country == \"NG\"]\n",
    "df_lines_osm_clean[\"geometry\"] = df_lines_osm_clean[\"geometry\"].apply(make_valid)"
   ]
  },
  {
   "cell_type": "markdown",
   "metadata": {},
   "source": [
    "#### 1.1.2. Calculate voltage levels for substations and lines\n",
    "\n",
    "Substations voltage level [V]"
   ]
  },
  {
   "cell_type": "code",
   "execution_count": 5,
   "metadata": {},
   "outputs": [],
   "source": [
    "voltage_substations = df_substations_osm_clean.voltage.unique()\n",
    "voltage_substations.sort()\n",
    "voltage_substations"
   ]
  },
  {
   "cell_type": "markdown",
   "metadata": {},
   "source": [
    "Lines voltage level [V]"
   ]
  },
  {
   "cell_type": "code",
   "execution_count": 6,
   "metadata": {},
   "outputs": [],
   "source": [
    "unique_voltages = df_lines_osm_clean.voltage.unique()\n",
    "unique_voltages.sort()\n",
    "unique_voltages"
   ]
  },
  {
   "cell_type": "markdown",
   "metadata": {},
   "source": [
    "#### 1.1.3. Specify colors for voltage levels in agreement with the image by the TSO\n",
    "\n",
    "Specify color array by voltage level"
   ]
  },
  {
   "cell_type": "code",
   "execution_count": 7,
   "metadata": {},
   "outputs": [],
   "source": [
    "color_voltages = [\"orange\", \"blue\", \"red\"]\n",
    "\n",
    "voltage_to_color = {v: c for (v, c) in zip(unique_voltages, color_voltages)}\n",
    "voltage_to_color"
   ]
  },
  {
   "cell_type": "markdown",
   "metadata": {},
   "source": [
    "#### 1.1.4. Plot the network data"
   ]
  },
  {
   "cell_type": "markdown",
   "metadata": {},
   "source": [
    "Get the borders of the country shape to perform the desired plot"
   ]
  },
  {
   "cell_type": "code",
   "execution_count": 8,
   "metadata": {},
   "outputs": [],
   "source": [
    "# get all country shapes\n",
    "country_shapes = gpd.read_file(countries_shape_path)\n",
    "\n",
    "# get nigeria shape\n",
    "nigeria_shape = country_shapes.set_index(\"name\").geometry\n",
    "\n",
    "# get bounds\n",
    "# print(\"Original bounds:\")\n",
    "# print(nigeria_shape.boundary.bounds)\n",
    "\n",
    "# add tolerance to bounds\n",
    "tol = 0.2\n",
    "\n",
    "bounds_mod = nigeria_shape.boundary.bounds\n",
    "bounds_mod[\"minx\"] -= tol  # reduce minx\n",
    "bounds_mod[\"miny\"] -= tol  # reduce miny\n",
    "bounds_mod[\"maxx\"] += tol  # increase maxx\n",
    "bounds_mod[\"maxy\"] += tol  # increase maxy\n",
    "\n",
    "print(\"Modified bounds:\")\n",
    "print(bounds_mod)\n",
    "\n",
    "# reorder bounds to comply with extend function (x0, x1, y0, y1)\n",
    "extent_list = (\n",
    "    float(bounds_mod[\"minx\"]),\n",
    "    float(bounds_mod[\"maxx\"]),\n",
    "    float(bounds_mod[\"miny\"]),\n",
    "    float(bounds_mod[\"maxy\"]),\n",
    ")"
   ]
  },
  {
   "cell_type": "markdown",
   "metadata": {},
   "source": [
    "Draw the picture using pyplot"
   ]
  },
  {
   "cell_type": "code",
   "execution_count": 9,
   "metadata": {},
   "outputs": [],
   "source": [
    "%matplotlib inline\n",
    "\n",
    "# get the structure of the background data to plot\n",
    "imagery = OSM()\n",
    "\n",
    "max_width = 30  # max width of the figure\n",
    "max_height = 30  # max heifht of the figure\n",
    "\n",
    "# calculate figure size with appropriate multiplier to adhere to the desired width/height\n",
    "multiplier = min(\n",
    "    max_width / (extent_list[1] - extent_list[0]),\n",
    "    max_height / (extent_list[3] - extent_list[2]),\n",
    ")\n",
    "figsize = (\n",
    "    (extent_list[1] - extent_list[0]) * multiplier,\n",
    "    (extent_list[3] - extent_list[2]) * multiplier,\n",
    ")\n",
    "\n",
    "\n",
    "fig = plt.figure(figsize=figsize)\n",
    "ax = fig.add_subplot(1, 1, 1, projection=imagery.crs)  # specify projection\n",
    "ax.set_extent(extent_list, ccrs.PlateCarree())  # specify the location of the image\n",
    "ax.add_image(imagery, 7)  # add the background image\n",
    "\n",
    "# create an auxiliary dataframe for the substations with the desired crs and color properties\n",
    "df_substations_osm_clean_plot = df_substations_osm_clean.to_crs(imagery.crs)\n",
    "# specify the color of the nodes\n",
    "df_substations_osm_clean_plot[\"color\"] = df_substations_osm_clean_plot.voltage.apply(\n",
    "    lambda x: voltage_to_color[x]\n",
    ")\n",
    "\n",
    "\n",
    "# create an auxiliary dataframe for the lines with the desired crs and properties\n",
    "df_lines_osm_clean_plot = df_lines_osm_clean.to_crs(imagery.crs)\n",
    "df_lines_osm_clean_plot[\n",
    "    \"centroids\"\n",
    "] = df_lines_osm_clean_plot.geometry.boundary.centroid  # get the centroids of the line\n",
    "df_lines_osm_clean_plot[\"color\"] = df_lines_osm_clean_plot.voltage.apply(\n",
    "    lambda x: voltage_to_color[x]\n",
    ")  # specify the color of the line\n",
    "\n",
    "# draw the substations\n",
    "df_substations_osm_clean_plot.plot(color=df_substations_osm_clean_plot.color, ax=ax)\n",
    "\n",
    "# draw the lines\n",
    "df_lines_osm_clean_plot.plot(color=df_lines_osm_clean_plot.color, ax=ax)\n",
    "\n",
    "# add annotations to show the number of circuits by line\n",
    "for (id, row) in df_lines_osm_clean_plot.iterrows():\n",
    "    ax.text(row.centroids.x, row.centroids.y, row.circuits, color=row.color)"
   ]
  },
  {
   "cell_type": "markdown",
   "metadata": {},
   "source": [
    "Add the equivalent map but with interactive features"
   ]
  },
  {
   "cell_type": "code",
   "execution_count": 10,
   "metadata": {},
   "outputs": [],
   "source": [
    "# Disabled to ease the data storing in github; decomment to use\n",
    "\n",
    "# df_substations_osm_clean[df_substations_osm_clean.voltage == unique_voltages[0]].hvplot(\n",
    "#     geo=True,\n",
    "#     size = 10,  # buses[\"tag_area\"]**(0.5)/10,\n",
    "#     frame_height=750,\n",
    "#     alpha=0.4,\n",
    "#     tiles='CartoLight',\n",
    "#     color=color_voltages[0],\n",
    "#     hover_cols=['bus_id'],\n",
    "# ) * df_substations_osm_clean[df_substations_osm_clean.voltage == unique_voltages[1]].hvplot(\n",
    "#     geo=True,\n",
    "#     alpha=0.4,\n",
    "#     color=color_voltages[1],\n",
    "#     hover_cols=['bus_id'],\n",
    "# ) * df_substations_osm_clean[df_substations_osm_clean.voltage == unique_voltages[2]].hvplot(\n",
    "#     geo=True,\n",
    "#     alpha=0.4,\n",
    "#     color=color_voltages[2],\n",
    "#     hover_cols=['bus_id'],\n",
    "# ) * df_lines_osm_clean[df_lines_osm_clean.voltage == unique_voltages[0]].hvplot(\n",
    "#     geo=True,\n",
    "#     color=color_voltages[0],\n",
    "#     alpha=0.4,\n",
    "#     hover_cols=['circuits', 'line_id'],\n",
    "# ) * df_lines_osm_clean[df_lines_osm_clean.voltage == unique_voltages[1]].hvplot(\n",
    "#     geo=True,\n",
    "#     color=color_voltages[1],\n",
    "#     alpha=0.4,\n",
    "#     hover_cols=['circuits', 'line_id'],\n",
    "# ) * df_lines_osm_clean[df_lines_osm_clean.voltage == unique_voltages[2]].hvplot(\n",
    "#     geo=True,\n",
    "#     color=color_voltages[2],\n",
    "#     alpha=0.4,\n",
    "#     hover_cols=['circuits', 'line_id'],\n",
    "# ).opts(\n",
    "#     active_tools=['pan', 'wheel_zoom']\n",
    "# )"
   ]
  },
  {
   "cell_type": "markdown",
   "metadata": {},
   "source": [
    "#### 1.1.5. Comments on the network layout\n",
    "\n",
    "By comparing the image of the existing lines availabe from TCN and the plots obtained from the workflow, it is possible to notice that they overlap and there are only minimal differences.\n",
    "\n",
    "However, the available source is dated 2016 and, as stated by the same [TCN source](https://www.tcn.org.ng/repository/maps/GRID%20MAP%20FOR%20EXISTING%20TRANSMISSION%20AND%20GENERATION%20NETWORK.pdf), there where several transmission lines projects ongoing in 2015.\n",
    "Therefore, the current model available in OSM may be sligthly outdated, but it draws a good picture of the current situation, given the available sources."
   ]
  },
  {
   "cell_type": "markdown",
   "metadata": {},
   "source": [
    "### 1.2. Calculate the total length of the lines\n",
    "\n",
    "In this section, the total length of the lines are obtained. To do so, the following actions are performed:\n",
    "1. Preliminary data loading\n",
    "2. Crosscheck the unit of measurement to verify that the units are in meters [m]\n",
    "3. Crosscheck the number of circuits for geometry line in the raw OSM dataset\n",
    "4. Evaluate the total length of the lines in the raw OSM dataset\n",
    "5. Evaluate the total length of the lines in the clean OSM dataset\n",
    "6. Remarks on the line length\n",
    "\n",
    "Note: the OSM dataset reports the geometry paths of the lines; however, in the same geometry path there may multiple circuits. That information is contained in the number of cables for geometry line, which is the reason why this information is properly addressed in point 3 (Subsection 1.2.3)."
   ]
  },
  {
   "cell_type": "markdown",
   "metadata": {},
   "source": [
    "#### 1.2.1 Preliminary data loading of raw OSM data\n",
    "\n",
    "In the following, we show the input data downloaded from OSM; the clean data have already been loaded."
   ]
  },
  {
   "cell_type": "code",
   "execution_count": 11,
   "metadata": {},
   "outputs": [],
   "source": [
    "# load substation geodataframe\n",
    "df_substations_osm_raw = gpd.read_file(substations_OSMraw_path)\n",
    "# df_substations_osm_raw = df_substations_osm_raw[df_substations_osm_raw.Country == \"NG\"]\n",
    "# load lines geodataframe\n",
    "df_lines_osm_raw = gpd.read_file(lines_OSMraw_path)\n",
    "# df_lines_osm_raw = df_lines_osm_raw[df_lines_osm_raw.Country == \"NG\"]\n",
    "\n",
    "# note that epsg=3857 has been chosen so that lenghts are in meters"
   ]
  },
  {
   "cell_type": "markdown",
   "metadata": {},
   "source": [
    "#### 1.2.2 Crosscheck the unit of measurement\n",
    "\n",
    "In the following, we verify that the property ``geometry.length`` can be successfully used to measure the length of the line in meters (spoiler, it is). To do so, we need to use the crs ``EPSF:3763`` and compare the obtained value with the column ``Length`` available in the raw OSM data of dataframe ``df_lines_osm_raw``.\n",
    "\n",
    "As shown below, the two informations are very close which confirm the proposed approach."
   ]
  },
  {
   "cell_type": "code",
   "execution_count": 12,
   "metadata": {},
   "outputs": [],
   "source": [
    "df_lines_osm_raw[\"length_by_geometry\"] = df_lines_osm_raw.to_crs(\n",
    "    epsg=3857\n",
    ").geometry.length\n",
    "df_lines_osm_raw[[\"Length\", \"length_by_geometry\"]].head()"
   ]
  },
  {
   "cell_type": "markdown",
   "metadata": {},
   "source": [
    "#### 1.2.3 Verify the value of column ``tags.cables``\n",
    "\n",
    "In the following we show the value of the dataframe column ``tags.cables`` to validate and verify the quality of the approximation used to estimate the total length.\n",
    "This property describes the number of cables per geometric line, as reported in the OSM dataset and it is an important information to estimate the total length of the lines operated by each TSO.\n",
    "In fact each geometric path may enable to carry multiple circuits, thus it is important to properly account to them when it occurs. Sicne three phase lines are mostly used, each circuit is composed by three cables.\n",
    "\n",
    "In particular, we show that only integer and None values are available: by convention the None values will be changed to 3 as base-case scenario."
   ]
  },
  {
   "cell_type": "code",
   "execution_count": 13,
   "metadata": {},
   "outputs": [],
   "source": [
    "df_lines_osm_raw[\"tags.cables\"].unique()"
   ]
  },
  {
   "cell_type": "markdown",
   "metadata": {},
   "source": [
    "#### 1.2.4. Calculate the total line length for OSM raw data\n",
    "\n",
    "In this case, we calculate the total length of the lines."
   ]
  },
  {
   "cell_type": "markdown",
   "metadata": {},
   "source": [
    "Show line length by voltage level [km]\n",
    "\n",
    "Note: when multiple circuits are available, the length of the line is multiplied accordingly."
   ]
  },
  {
   "cell_type": "code",
   "execution_count": 14,
   "metadata": {},
   "outputs": [],
   "source": [
    "# Note, since CRS EPSG:3763 is used, distances are in meters, thus by dividing for 1000, the units are in km\n",
    "df_lines_osm_raw[\"cables_fix\"] = df_lines_osm_raw[\"tags.cables\"].copy()\n",
    "df_lines_osm_raw.loc[\n",
    "    df_lines_osm_raw[\"tags.cables\"].isnull() | df_lines_osm_raw[\"tags.cables\"].isna(),\n",
    "    \"cables_fix\",\n",
    "] = 3  # when NaN or None, set default value\n",
    "df_lines_osm_raw[\"length\"] = (\n",
    "    df_lines_osm_raw.to_crs(epsg=3857).geometry.length\n",
    "    * df_lines_osm_raw[\"cables_fix\"].astype(float)\n",
    "    / 3\n",
    ")\n",
    "df_lines_osm_raw.groupby(by=[\"tags.voltage\"]).length.sum() / 1000"
   ]
  },
  {
   "cell_type": "markdown",
   "metadata": {},
   "source": [
    "Total lines length [km]"
   ]
  },
  {
   "cell_type": "code",
   "execution_count": 15,
   "metadata": {},
   "outputs": [],
   "source": [
    "df_lines_osm_raw.to_crs(epsg=3857).length.sum() / 1000"
   ]
  },
  {
   "cell_type": "markdown",
   "metadata": {},
   "source": [
    "Furthermore, for the purpose of clarity, it is also shown the total length of the line where information on the number of circuits has been fixed (length of the lines where the cables data where missing)\n",
    "\n",
    "Show total line length [km] for lines where information on the number of circuits is not available"
   ]
  },
  {
   "cell_type": "code",
   "execution_count": 16,
   "metadata": {},
   "outputs": [],
   "source": [
    "# Note, since CRS EPSG:3763 is used, distances are in meters, thus by dividing for 1000, the units are in km\n",
    "df_lines_osm_raw.to_crs(epsg=3857)[\n",
    "    df_lines_osm_raw[\"tags.cables\"].isnull()\n",
    "    | df_lines_osm_raw[\"tags.cables\"].isna()  # when NaN or None, set default value\n",
    "].geometry.length.sum() / 1000"
   ]
  },
  {
   "cell_type": "markdown",
   "metadata": {},
   "source": [
    "#### 1.2.5. Calculate the total line length for OSM clean data\n",
    "\n",
    "Finally, the information on total line length for the clean dataset are calculated.\n",
    "\n",
    "Show line length by voltage level [km]\n",
    "\n",
    "Note: when multiple circuits are available, the length of the line is multiplied accordingly."
   ]
  },
  {
   "cell_type": "code",
   "execution_count": 17,
   "metadata": {},
   "outputs": [],
   "source": [
    "# Note, since CRS EPSG:3763 is used, distances are in meters, thus by dividing for 1000, the units are in km\n",
    "df_lines_osm_clean[\"length\"] = (\n",
    "    df_lines_osm_clean.to_crs(epsg=3857).geometry.length\n",
    "    * df_lines_osm_clean.circuits\n",
    "    / 1000\n",
    ")\n",
    "df_lines_osm_clean.groupby(by=[\"voltage\"]).length.sum()"
   ]
  },
  {
   "cell_type": "markdown",
   "metadata": {},
   "source": [
    "Total lines length [km]"
   ]
  },
  {
   "cell_type": "code",
   "execution_count": 18,
   "metadata": {},
   "outputs": [],
   "source": [
    "df_lines_osm_clean.to_crs(epsg=3857).length.sum() / 1000"
   ]
  },
  {
   "cell_type": "code",
   "execution_count": 19,
   "metadata": {},
   "outputs": [],
   "source": [
    "df_lines_osm_clean[\"length\"] = (\n",
    "    df_lines_osm_clean.to_crs(epsg=3857).geometry.length\n",
    "    * df_lines_osm_clean.circuits\n",
    "    / 1000\n",
    ")\n",
    "df_lines_osm_clean.groupby(by=[\"voltage\"]).length.sum()"
   ]
  },
  {
   "cell_type": "markdown",
   "metadata": {},
   "source": [
    "#### 1.2.6. Remarks on the line length\n",
    "\n",
    "According to the data available from the [Transmission Company of Nigeria (ISO)](https://nerc.gov.ng/index.php/home/nesi/404-transmission), in Nigeria, there are:\n",
    "\n",
    "- \\> 20000km lines\n",
    "- \\> 7500MW line capacity\n",
    "\n",
    "Therefore, the current OSM data cleaning captures around 60% (12752/20000) the network length; yet, this value is pretty close to the input data available from OSM data.\n",
    "\n",
    "The shape, however, is quire representative of the network shown in the image above. A big contribution to solve this element may be related to the number of circuits that may not be well corresponding to what actually in place. About 2800 km of geometric lines distances do not have the number of circuits specified.\n",
    "\n",
    "Moreover, recent network upgrades may not be well represented."
   ]
  },
  {
   "cell_type": "markdown",
   "metadata": {},
   "source": [
    "## 2. Analysis on the demand data\n",
    "\n",
    "In the following section, let's investigate the electrical demand used in the simulations.\n",
    "\n",
    "According to [IEA](https://www.iea.org/articles/nigeria-energy-outlook), the electricity demand in Nigeria was about 57 TWh.\n",
    "\n",
    "Let's verify the input used in pypsa-africa."
   ]
  },
  {
   "cell_type": "markdown",
   "metadata": {},
   "source": [
    "#### Load the model"
   ]
  },
  {
   "cell_type": "code",
   "execution_count": 20,
   "metadata": {},
   "outputs": [],
   "source": [
    "n_solve = pypsa.Network(solved_network_path)"
   ]
  },
  {
   "cell_type": "markdown",
   "metadata": {},
   "source": [
    "#### Calculate total demand\n",
    "\n",
    "Calculate the total demand used in the simulations.\n",
    "Please, note that the actual demand shall be scaled to account for the number of representative days/periods that have been used."
   ]
  },
  {
   "cell_type": "code",
   "execution_count": 21,
   "metadata": {},
   "outputs": [],
   "source": [
    "# filter only Nigerian demand\n",
    "nigeria_demand = n_solve.loads_t.p.filter(regex=\"NG *\", axis=1)\n",
    "\n",
    "# raw sum used in the model\n",
    "tot_yearly_demand_scaled = nigeria_demand.sum().sum()\n",
    "\n",
    "# rescaled value accounting for the number of representative days: the factor (8760/nigeria_demand.shape[0]) is the multiplier\n",
    "tot_yearly_demand = tot_yearly_demand_scaled * 8760 / nigeria_demand.shape[0]\n",
    "\n",
    "# show value in TWh\n",
    "print(\"Demand in TWh: %.2f\" % (tot_yearly_demand / 1000000))"
   ]
  },
  {
   "cell_type": "markdown",
   "metadata": {},
   "source": [
    "#### Comments on the demand\n",
    "\n",
    "It is worth noticing that the expected demand is aligned to the current Nigerian electrical demand"
   ]
  },
  {
   "cell_type": "markdown",
   "metadata": {},
   "source": [
    "## 3. Installed generation by type\n",
    "\n",
    "In the subsequent section, the total installed generation is compared to validate the model.\n",
    "\n",
    "According to [USAID](https://www.usaid.gov/powerafrica/nigeria), the total installed generation in Nigeria is:\n",
    "- Hydro: 2.062 GW\n",
    "- Gas: 11.972 GW\n",
    "- Wind: 0.01 MW\n",
    "- Solar: 0.007 MW\n",
    "- Other/Diesel/HFO: 2.333 GW\n",
    "\n",
    "Total: 16.4 GW\n",
    "\n",
    "These numbers are compared to the ones used in pypsa-africa"
   ]
  },
  {
   "cell_type": "code",
   "execution_count": 22,
   "metadata": {},
   "outputs": [],
   "source": [
    "# filter only generators in Nigeria\n",
    "nigeria_generators = n_solve.generators  # .filter(regex=\"NG *\", axis=0)\n",
    "\n",
    "# obtain installed generation by carrier\n",
    "nigeria_generators.groupby(by=\"carrier\")[\"p_nom\"].sum()"
   ]
  },
  {
   "cell_type": "code",
   "execution_count": 23,
   "metadata": {},
   "outputs": [],
   "source": [
    "n_solve.plot()"
   ]
  },
  {
   "cell_type": "markdown",
   "metadata": {},
   "source": [
    "The current data are of the same order of magnitude of those declared by public authorities, yet up-to-date data shall be used."
   ]
  },
  {
   "cell_type": "markdown",
   "metadata": {},
   "source": [
    "## 4. Energy production shares\n",
    "\n",
    "In the following, the total energy production shares as output of the total energy dispatch as available by IEA are compared to those calculated by the pypsa-africa procedure.\n",
    "\n",
    "The following image depicts the energy demand by source as computed in the Stated Policy Scenarios by [IEA](https://www.iea.org/articles/nigeria-energy-outlook), which is used as a reference for comparison purposes\n",
    "\n",
    "![Nigerian demand - IEA](../../images/Nigeria_data/Nigeria_demand.png)\n",
    "[Source link](https://www.iea.org/articles/nigeria-energy-outlook)"
   ]
  },
  {
   "cell_type": "code",
   "execution_count": 24,
   "metadata": {},
   "outputs": [],
   "source": [
    "# filter only generators in Nigeria\n",
    "nigeria_generators_dispatch = n_solve.generators_t.p.filter(regex=\"NG *\", axis=1).copy()\n",
    "\n",
    "# rename column to keep only the carrier\n",
    "nigeria_generators_dispatch.rename(\n",
    "    columns=dict(\n",
    "        zip(\n",
    "            nigeria_generators_dispatch.columns,\n",
    "            map(\n",
    "                lambda x: re.sub(r\"NG \\d+ \", \"\", x), nigeria_generators_dispatch.columns\n",
    "            ),\n",
    "        )\n",
    "    ),\n",
    "    inplace=True,\n",
    ")\n",
    "\n",
    "# obtain generation by carrier\n",
    "(\n",
    "    nigeria_generators_dispatch.groupby(level=0, axis=1).sum().sum()\n",
    "    * 8760\n",
    "    / nigeria_generators_dispatch.shape[0]\n",
    "    / 1000000\n",
    ").head(5)"
   ]
  },
  {
   "cell_type": "code",
   "execution_count": 25,
   "metadata": {},
   "outputs": [],
   "source": [
    "# create a dataframe with total generation per carrier\n",
    "\n",
    "# create empty DataFrame with specific column names & types\n",
    "df = pd.DataFrame(\n",
    "    {\n",
    "        \"carrier\": pd.Series(dtype=\"str\"),\n",
    "        \"pypsa_total_generation [TWh]\": pd.Series(dtype=\"float\"),\n",
    "    }\n",
    ")\n",
    "\n",
    "carrier_list = n_solve.generators.carrier.unique()\n",
    "\n",
    "for i in range(0, len(carrier_list)):\n",
    "    df.loc[i] = [\n",
    "        carrier_list[i],\n",
    "        round(\n",
    "            n_solve.generators_t.p.filter(like=carrier_list[i], axis=1).sum().sum()\n",
    "            / 1000000,\n",
    "            2,\n",
    "        ),\n",
    "    ]  # MWh to TWh\n",
    "\n",
    "df.loc[i + 1] = [\n",
    "    \"hydro\",\n",
    "    round(\n",
    "        n_solve.storage_units_t.p.filter(like=\"hydro\", axis=1).sum().sum() / 1000000, 2\n",
    "    ),\n",
    "]  # MWh to TWh\n",
    "\n",
    "df.head(10)"
   ]
  },
  {
   "cell_type": "code",
   "execution_count": 26,
   "metadata": {},
   "outputs": [],
   "source": [
    "# import validation data form OurWorldInData\n",
    "from scripts._helpers import three_2_two_digits_country  # _helpers are from pypsa\n",
    "\n",
    "url = \"https://nyc3.digitaloceanspaces.com/owid-public/data/energy/owid-energy-data.csv\"\n",
    "df = pd.read_csv(url)\n",
    "df = df.loc[\n",
    "    :,\n",
    "    [\n",
    "        \"iso_code\",\n",
    "        \"country\",\n",
    "        \"year\",\n",
    "        \"coal_electricity\",\n",
    "        \"gas_electricity\",\n",
    "        \"nuclear_electricity\",\n",
    "        \"hydro_electricity\",\n",
    "        \"solar_electricity\",\n",
    "        \"wind_electricity\",\n",
    "    ],\n",
    "]\n",
    "df = df[df[\"iso_code\"].notna()]  # removes antartica\n",
    "df[\"iso_code_2\"] = df.loc[:, \"iso_code\"].apply(lambda x: three_2_two_digits_country(x))"
   ]
  },
  {
   "cell_type": "code",
   "execution_count": 27,
   "metadata": {},
   "outputs": [],
   "source": [
    "year_owid = 2020  # option\n",
    "iso_country_code = \"NG\"\n",
    "df = df[df[\"iso_code_2\"] == iso_country_code]\n",
    "df = df[df[\"year\"] == year_owid]\n",
    "df.head(2)  # in [TWh]"
   ]
  },
  {
   "cell_type": "markdown",
   "metadata": {},
   "source": [
    "#### Comments\n",
    "- Currently Oil (back-up generators) is not dispatched and numbers do not match\n",
    "- hydro is basically missing"
   ]
  }
 ],
 "metadata": {
  "kernelspec": {
   "display_name": "Python 3.9.13 ('pypsa-africa2')",
   "language": "python",
   "name": "python3"
  },
  "language_info": {
   "codemirror_mode": {
    "name": "ipython",
    "version": 3
   },
   "file_extension": ".py",
   "mimetype": "text/x-python",
   "name": "python",
   "nbconvert_exporter": "python",
   "pygments_lexer": "ipython3",
   "version": "3.9.13"
  },
  "vscode": {
   "interpreter": {
    "hash": "96fd03f928b86929c4373aa701822f48c38d5148f50898d4cd1cdcf42ecc01ce"
   }
  }
 },
 "nbformat": 4,
 "nbformat_minor": 4
}
