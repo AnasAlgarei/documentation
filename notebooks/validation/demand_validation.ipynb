{
 "cells": [
  {
   "cell_type": "markdown",
   "metadata": {},
   "source": [
    "# Validation of the PyPSA-Africa Electric Demand\n",
    "\n",
    "This notebooks investigates the data quality of the African electric consumption\n",
    "data by comparing PyPSA, official Nigerian and Our World in Data (incl. BP & Ember).\n",
    "\n",
    "To reproduce the findings obtained in this notebook,\n",
    "please run the full snakemake workflow for the Africa.\n",
    "To do so, please set ``countries = [\"Africa\"]`` in the ``config.yaml`` file.\n",
    "\n",
    "Note. An unoptimized prepared network is sufficient for this notebook. "
   ]
  },
  {
   "cell_type": "markdown",
   "metadata": {},
   "source": [
    "## Preparation"
   ]
  },
  {
   "cell_type": "markdown",
   "metadata": {},
   "source": [
    "### Import packages"
   ]
  },
  {
   "cell_type": "code",
   "execution_count": 1,
   "metadata": {},
   "outputs": [],
   "source": [
    "# import packages\n",
    "\n",
    "import logging\n",
    "import os\n",
    "\n",
    "import pypsa\n",
    "import numpy as np\n",
    "import matplotlib.pyplot as plt\n",
    "import pandas as pd\n",
    "\n",
    "logger = logging.getLogger(__name__)\n",
    "\n",
    "pd.set_option(\"display.max_columns\", None)\n",
    "pd.set_option(\"display.max_colwidth\", 70)"
   ]
  },
  {
   "cell_type": "markdown",
   "metadata": {},
   "source": [
    "### Set main directory to root folder"
   ]
  },
  {
   "cell_type": "code",
   "execution_count": 2,
   "metadata": {},
   "outputs": [],
   "source": [
    "# set current folders\n",
    "import sys\n",
    "\n",
    "sys.path.append(\"../../\")  # adds path to $ .../pypsa-africa\n",
    "from scripts._helpers import sets_path_to_root\n",
    "\n",
    "sets_path_to_root(\"pypsa-africa\")  # moves path to root"
   ]
  },
  {
   "cell_type": "markdown",
   "metadata": {},
   "source": [
    "## 1. Load data "
   ]
  },
  {
   "cell_type": "markdown",
   "metadata": {},
   "source": [
    "#### Our World in Data\n",
    "Retrieved from their GitHub: https://github.com/owid/energy-data/tree/master \\\n",
    "Web interface: https://ourworldindata.org/energy \n",
    "\n",
    "Our data sources:\n",
    "- Energy consumption (primary energy, energy mix and energy intensity): this data is sourced from a combination of three sources—the BP Statistical Review of World Energy, the EIA and the SHIFT Data Portal.\n",
    "- Electricity generation (electricity generation, and electricity mix): this data is sourced from a combination of three sources—the BP Statistical Review of World Energy, the Ember – Data Explorer and the Ember European Electricity Review.\n",
    "- Other variables: this data is collected from a variety of sources (United Nations, World Bank, Gapminder, Maddison Project Database, etc.). More information is available in our codebook.\n"
   ]
  },
  {
   "cell_type": "code",
   "execution_count": 3,
   "metadata": {},
   "outputs": [],
   "source": [
    "from scripts._helpers import three_2_two_digits_country  # _helpers are from pypsa\n",
    "\n",
    "url = \"https://nyc3.digitaloceanspaces.com/owid-public/data/energy/owid-energy-data.csv\"\n",
    "df = pd.read_csv(url)\n",
    "df = df.loc[:, [\"iso_code\", \"country\", \"year\", \"electricity_demand\"]]\n",
    "df = df[df[\"iso_code\"].notna()]  # removes antartica\n",
    "df[\"iso_code_2\"] = df.loc[:, \"iso_code\"].apply(lambda x: three_2_two_digits_country(x))\n",
    "electricity_demand_owid = df\n",
    "electricity_demand_owid.tail(2)"
   ]
  },
  {
   "cell_type": "markdown",
   "metadata": {},
   "source": [
    "#### PyPSA network\n",
    "\n",
    "Requires a solved or unsolved network."
   ]
  },
  {
   "cell_type": "code",
   "execution_count": 4,
   "metadata": {},
   "outputs": [],
   "source": [
    "solved_network_path = os.getcwd() + \"/networks/elec_s_420_ec.nc\"\n",
    "pypsa_network = pypsa.Network(solved_network_path)\n",
    "electricity_demand_pypsa = pypsa_network.loads_t.p_set\n",
    "electricity_demand_pypsa.head(2)"
   ]
  },
  {
   "cell_type": "markdown",
   "metadata": {},
   "source": [
    "# 2. Validate\n",
    "\n",
    "#### Steps:\n",
    "- Align country coverage of dataframe\n",
    "- Pick year of interest for 'Our World in Data'\n",
    "- Align dataframe naming and temporal resolution\n",
    "- Merge dataframe\n"
   ]
  },
  {
   "cell_type": "markdown",
   "metadata": {},
   "source": [
    "Reduce \"Our World in Data\" to contain the same countries as PyPSA"
   ]
  },
  {
   "cell_type": "code",
   "execution_count": 5,
   "metadata": {},
   "outputs": [],
   "source": [
    "country_in_network = (\n",
    "    electricity_demand_pypsa.columns.to_frame()[\"Load\"].apply(lambda x: x[0:2]).values\n",
    ")\n",
    "electricity_demand_owid_mini = electricity_demand_owid[\n",
    "    electricity_demand_owid[\"iso_code_2\"].isin(country_in_network)\n",
    "]"
   ]
  },
  {
   "cell_type": "markdown",
   "metadata": {},
   "source": [
    "Create total electric demand in TWh from OWID for year of interest"
   ]
  },
  {
   "cell_type": "code",
   "execution_count": 6,
   "metadata": {},
   "outputs": [],
   "source": [
    "year_owid = 2020  # option\n",
    "df = electricity_demand_owid_mini\n",
    "df = df[df[\"year\"] == year_owid]\n",
    "electricity_demand_owid_mini = df\n",
    "electricity_demand_owid_mini.head(2)"
   ]
  },
  {
   "cell_type": "markdown",
   "metadata": {},
   "source": [
    "Create total electric demand in TWh from PyPSA for chosen demand year in `config.yaml`"
   ]
  },
  {
   "cell_type": "code",
   "execution_count": 7,
   "metadata": {},
   "outputs": [],
   "source": [
    "# short the columns to only two digit (for groupby in next step)\n",
    "electricity_demand_pypsa.columns = (\n",
    "    electricity_demand_pypsa.columns.to_frame()[\"Load\"].apply(lambda x: x[0:2]).values\n",
    ")"
   ]
  },
  {
   "cell_type": "markdown",
   "metadata": {},
   "source": [
    "Align PyPSA dataframe to 'Our World in Data'"
   ]
  },
  {
   "cell_type": "code",
   "execution_count": 8,
   "metadata": {},
   "outputs": [],
   "source": [
    "from scripts._helpers import two_2_three_digits_country  # _helpers are from pypsa\n",
    "import yaml\n",
    "\n",
    "with open(\"config.yaml\", \"r\") as file:\n",
    "    config = yaml.safe_load(file)\n",
    "\n",
    "df = electricity_demand_pypsa\n",
    "df = pd.DataFrame(\n",
    "    (df.sum().T.groupby([df.columns]).sum() / 10**6).round(2)\n",
    ")  # MWh to TWh\n",
    "df = df.reset_index()\n",
    "df = df.rename(columns={0: \"electricity_demand\", \"index\": \"iso_code_2\"})\n",
    "df[\"year\"] = config[\"load_options\"][\"prediction_year\"]\n",
    "df[\"iso_code\"] = df.loc[:, \"iso_code_2\"].apply(lambda x: two_2_three_digits_country(x))\n",
    "\n",
    "map_dic = pd.Series(\n",
    "    electricity_demand_owid_mini.country.values,\n",
    "    index=electricity_demand_owid_mini.iso_code_2,\n",
    ").to_dict()\n",
    "df[\"country\"] = df[\"iso_code_2\"].map(map_dic)\n",
    "electricity_demand_pypsa = df\n",
    "electricity_demand_pypsa.head(2)"
   ]
  },
  {
   "cell_type": "markdown",
   "metadata": {},
   "source": [
    "Merge dataframes"
   ]
  },
  {
   "cell_type": "code",
   "execution_count": 9,
   "metadata": {},
   "outputs": [],
   "source": [
    "h = config[\"load_options\"][\"prediction_year\"]\n",
    "electricity_demand_pypsa[\"source\"] = f\"PyPSA {h}\"\n",
    "electricity_demand_owid_mini[\"source\"] = f\"Our World in Data {year_owid}\"\n",
    "df_merge = pd.concat([electricity_demand_pypsa, electricity_demand_owid_mini])"
   ]
  },
  {
   "cell_type": "code",
   "execution_count": 10,
   "metadata": {},
   "outputs": [],
   "source": [
    "import seaborn as sns\n",
    "import matplotlib.pyplot as plt\n",
    "\n",
    "sns.set_theme(style=\"whitegrid\", font_scale=1.5)\n",
    "\n",
    "# shorten names\n",
    "df_merge.loc[\n",
    "    df_merge[\"country\"] == \"Democratic Republic of Congo\", \"country\"\n",
    "] = \"Demo. Rep. of Congo\"\n",
    "df_merge.loc[\n",
    "    df_merge[\"country\"] == \"Central African Republic\", \"country\"\n",
    "] = \"Central African Rep.\"\n",
    "\n",
    "# split dataframe. No equal split possible since 'Our World in Data' misses \"EH\" == Western Sahara\n",
    "df_merge1 = df_merge.sort_values(\"country\").iloc[0:46]\n",
    "df_merge2 = df_merge.sort_values(\"country\").iloc[46:]\n",
    "\n",
    "# Initialize the matplotlib figure\n",
    "ax = sns.catplot(\n",
    "    x=\"country\",\n",
    "    y=\"electricity_demand\",\n",
    "    hue=\"source\",\n",
    "    data=df_merge1,\n",
    "    palette=\"Blues_d\",\n",
    "    kind=\"bar\",\n",
    "    height=5,\n",
    "    aspect=5,\n",
    ")\n",
    "ax.set_xticklabels(rotation=90)\n",
    "sns.move_legend(ax, \"upper right\", bbox_to_anchor=(0.85, 0.9), frameon=True, title=None)\n",
    "sns.despine(left=True, bottom=True)\n",
    "ax.set(xlabel=None, ylabel=\"Annual Electricity demand [TWh]\", ylim=(0, 500))\n",
    "# ax.savefig(\"demand-validation-part1.pdf\", bbox_inches='tight')\n",
    "\n",
    "ax = sns.catplot(\n",
    "    x=\"country\",\n",
    "    y=\"electricity_demand\",\n",
    "    hue=\"source\",\n",
    "    data=df_merge2,\n",
    "    palette=\"Blues_d\",\n",
    "    kind=\"bar\",\n",
    "    height=5,\n",
    "    aspect=5,\n",
    ")\n",
    "ax.set_xticklabels(rotation=90)\n",
    "sns.move_legend(ax, \"upper right\", bbox_to_anchor=(0.85, 0.9), frameon=True, title=None)\n",
    "sns.despine(left=True, bottom=True)\n",
    "ax.set(xlabel=None, ylabel=\"Annual Electricity Demand [TWh]\", ylim=(0, 500))\n",
    "# ax.savefig(\"demand-validation-part2.pdf\", bbox_inches='tight')"
   ]
  },
  {
   "cell_type": "code",
   "execution_count": 11,
   "metadata": {},
   "outputs": [],
   "source": [
    "african_total_consumption = (\n",
    "    df_merge.groupby(by=\"source\").sum().drop(columns=\"year\").reset_index()\n",
    ")\n",
    "extra = pd.DataFrame(\n",
    "    data={\n",
    "        \"source\": [\"IRENA 2030\", \"Alova et al. 2030\"],\n",
    "        \"electricity_demand\": [1004 + 920, 1877],\n",
    "    }\n",
    ")\n",
    "# https://www.irena.org/-/media/Files/IRENA/Agency/Publication/2015/IRENA_Africa_2030_REmap_2015_low-res.pdf\n",
    "# https://www.nature.com/articles/s41560-020-00755-9\n",
    "\n",
    "african_total_consumption = pd.concat([african_total_consumption, extra])\n",
    "african_total_consumption.plot.scatter(\n",
    "    x=\"source\", y=\"electricity_demand\", s=\"electricity_demand\"\n",
    ")\n",
    "african_total_consumption"
   ]
  }
 ],
 "metadata": {
  "interpreter": {
   "hash": "b34881217c78f48c1cb2cd3434cb375f471e98a15a99a90b485a8349351a20f8"
  },
  "kernelspec": {
   "display_name": "Python 3.10.4 ('pypsa-africa')",
   "language": "python",
   "name": "python3"
  },
  "language_info": {
   "codemirror_mode": {
    "name": "ipython",
    "version": 3
   },
   "file_extension": ".py",
   "mimetype": "text/x-python",
   "name": "python",
   "nbconvert_exporter": "python",
   "pygments_lexer": "ipython3",
   "version": "3.10.4"
  }
 },
 "nbformat": 4,
 "nbformat_minor": 4
}
