{
 "cells": [
  {
   "cell_type": "markdown",
   "metadata": {},
   "source": [
    "# Validation of the PyPSA-Africa Installed capacity\n",
    "\n",
    "This notebooks investigates the data quality of the African electric consumption\n",
    "data by comparing PyPSA, official Nigerian and [IRENA statistics](https://pxweb.irena.org/pxweb/en/IRENASTAT/IRENASTAT__Power%20Capacity%20and%20Generation/ELECCAP_2022_cycle2.px/).\n",
    "\n",
    "To reproduce the findings obtained in this notebook,\n",
    "please run the full snakemake workflow for the Africa.\n",
    "To do so, please set ``countries = [\"Africa\"]`` in the ``config.yaml`` file.\n",
    "\n",
    "Note. An unoptimized prepared network is sufficient for this notebook. "
   ]
  },
  {
   "cell_type": "markdown",
   "metadata": {},
   "source": [
    "## Preparation"
   ]
  },
  {
   "cell_type": "markdown",
   "metadata": {},
   "source": [
    "### Import packages"
   ]
  },
  {
   "cell_type": "code",
   "execution_count": 1,
   "metadata": {},
   "outputs": [],
   "source": [
    "# import packages\n",
    "\n",
    "import logging\n",
    "import os\n",
    "\n",
    "import pypsa\n",
    "import numpy as np\n",
    "import matplotlib.pyplot as plt\n",
    "import pandas as pd\n",
    "\n",
    "logger = logging.getLogger(__name__)\n",
    "\n",
    "pd.set_option(\"display.max_columns\", None)\n",
    "pd.set_option(\"display.max_colwidth\", 70)"
   ]
  },
  {
   "cell_type": "markdown",
   "metadata": {},
   "source": [
    "### Set main directory to root folder"
   ]
  },
  {
   "cell_type": "code",
   "execution_count": 2,
   "metadata": {},
   "outputs": [],
   "source": [
    "# change current directory\n",
    "import os\n",
    "import sys\n",
    "\n",
    "# change current directory to pypsa-earth folder\n",
    "os.chdir(\"../../../pypsa-earth\")"
   ]
  },
  {
   "cell_type": "markdown",
   "metadata": {},
   "source": [
    "## 1. Load data "
   ]
  },
  {
   "cell_type": "markdown",
   "metadata": {},
   "source": [
    "#### IRENA data\n",
    "Retrieved from [IRENA statistics](https://pxweb.irena.org/pxweb/en/IRENASTAT/IRENASTAT__Power%20Capacity%20and%20Generation/ELECCAP_2022_cycle2.px/).\\\n",
    "Please, download the statistics for 2020 for all the world and specify the url specified above."
   ]
  },
  {
   "cell_type": "code",
   "execution_count": 3,
   "metadata": {},
   "outputs": [],
   "source": [
    "from scripts._helpers import country_name_2_two_digits  # _helpers are from pypsa\n",
    "\n",
    "year_select = 2020\n",
    "\n",
    "IRENA_path = os.getcwd() + \"/ELECCAP_20220804-155822.csv\"\n",
    "df_irena = pd.read_csv(IRENA_path, skiprows=2, encoding=\"latin-1\")\n",
    "df_irena = df_irena[df_irena.loc[:, \"Year\"] == year_select]\n",
    "df_irena = df_irena.iloc[:, [0, 1, 2, 4]]\n",
    "# df = df[df[\"iso_code\"].notna()]  # removes antartica\n",
    "df_irena[\"alpha2\"] = df_irena.loc[:, \"Country/area\"].apply(\n",
    "    lambda x: country_name_2_two_digits(x)\n",
    ")\n",
    "# electricity_demand_owid = df\n",
    "# electricity_demand_owid.tail(2)"
   ]
  },
  {
   "cell_type": "markdown",
   "metadata": {},
   "source": [
    "#### PyPSA generator data\n",
    "\n",
    "Loads the PyPSA generators data"
   ]
  },
  {
   "cell_type": "markdown",
   "metadata": {},
   "source": [
    "##### Load data from the network and create normalized dataframe"
   ]
  },
  {
   "cell_type": "code",
   "execution_count": 4,
   "metadata": {},
   "outputs": [],
   "source": [
    "addelectricity_network_path = os.getcwd() + \"/networks/elec.nc\"\n",
    "pypsa_network = pypsa.Network(addelectricity_network_path)\n",
    "\n",
    "# statistics of non-storage units\n",
    "installed_capacity_nostorages = pypsa_network.generators.copy()\n",
    "# add country column\n",
    "installed_capacity_nostorages[\"alpha2\"] = installed_capacity_nostorages.bus.map(\n",
    "    lambda x: pypsa_network.buses.country.loc[x]\n",
    ")\n",
    "installed_capacity_nostorages.loc[\n",
    "    installed_capacity_nostorages[\"carrier\"].isin([\"ror\"]), \"carrier\"\n",
    "] = \"hydro\"\n",
    "installed_capacity_nostorages.loc[\n",
    "    installed_capacity_nostorages[\"carrier\"] == \"onwind\", \"carrier\"\n",
    "] = \"onshore wind\"\n",
    "installed_capacity_nostorages.loc[\n",
    "    installed_capacity_nostorages[\"carrier\"].isin([\"offwind-ac\", \"off-shore-dc\"]),\n",
    "    \"carrier\",\n",
    "] = \"offshore wind\"\n",
    "installed_capacity_nostorages.loc[\n",
    "    installed_capacity_nostorages[\"carrier\"].isin([\"CCGT\", \"OCGT\"]), \"carrier\"\n",
    "] = \"gas\"\n",
    "installed_capacity_nostorages.loc[\n",
    "    installed_capacity_nostorages[\"carrier\"] == \"onwind\", \"carrier\"\n",
    "] = \"wind\"\n",
    "installed_capacity_nostorages_select = installed_capacity_nostorages.loc[\n",
    "    :, [\"alpha2\", \"carrier\", \"p_nom\"]\n",
    "]\n",
    "\n",
    "# statistics of storage units\n",
    "installed_capacity_storages = pypsa_network.storage_units.copy()\n",
    "# add country column\n",
    "installed_capacity_storages[\"alpha2\"] = installed_capacity_storages.bus.map(\n",
    "    lambda x: pypsa_network.buses.country.loc[x]\n",
    ")\n",
    "installed_capacity_storages.loc[\n",
    "    installed_capacity_storages[\"carrier\"] == \"PHS\", \"carrier\"\n",
    "] = \"hydro\"\n",
    "installed_capacity_storages_select = installed_capacity_storages.loc[\n",
    "    :, [\"alpha2\", \"carrier\", \"p_nom\"]\n",
    "]\n",
    "\n",
    "\n",
    "installed_capacity_raw = pd.concat(\n",
    "    [installed_capacity_storages_select, installed_capacity_nostorages_select]\n",
    ")\n",
    "installed_capacity = installed_capacity_raw.groupby([\"alpha2\", \"carrier\"])[\n",
    "    \"p_nom\"\n",
    "].sum()\n",
    "installed_capacity.groupby(\"carrier\").sum()"
   ]
  },
  {
   "cell_type": "markdown",
   "metadata": {},
   "source": [
    "##### Load PyPSA powerplant data to crosscheck data from the network"
   ]
  },
  {
   "cell_type": "code",
   "execution_count": 5,
   "metadata": {},
   "outputs": [],
   "source": [
    "powerplants_data = os.getcwd() + \"/resources/powerplants.csv\"\n",
    "available_generators = pd.read_csv(powerplants_data)\n",
    "installed_capacity_resources = available_generators.groupby([\"Country\", \"Fueltype\"])[\n",
    "    \"Capacity\"\n",
    "].sum()\n",
    "installed_capacity_resources.groupby([\"Fueltype\"]).sum()"
   ]
  },
  {
   "cell_type": "markdown",
   "metadata": {},
   "source": [
    "# 2. Validate\n",
    "\n",
    "#### Steps:\n",
    "- Specify year of interest of the IRENA dataset and the countries of interest\n",
    "- Harmonize IRENA dataset to the PyPSA standard\n",
    "- Align dataframe naming and temporal resolution\n",
    "- Merge dataframe\n"
   ]
  },
  {
   "cell_type": "markdown",
   "metadata": {},
   "source": [
    "##### Specify year of the analysis and the countries of interest"
   ]
  },
  {
   "cell_type": "code",
   "execution_count": 6,
   "metadata": {},
   "outputs": [],
   "source": [
    "year_owid = 2020  # option\n",
    "country_list = installed_capacity_nostorages.alpha2.unique()\n",
    "country_list"
   ]
  },
  {
   "cell_type": "markdown",
   "metadata": {},
   "source": [
    "##### Process IRENA data to match PyPSA standard"
   ]
  },
  {
   "cell_type": "code",
   "execution_count": 7,
   "metadata": {},
   "outputs": [],
   "source": [
    "# copy IRENA dataset\n",
    "df = df_irena.copy()\n",
    "\n",
    "# Process technologies\n",
    "df.loc[\n",
    "    df[\"Technology\"].isin([\"Solar photovoltaic\", \"Solar thermal energy\"]), \"Technology\"\n",
    "] = \"solar\"\n",
    "df.loc[df[\"Technology\"].isin([\"Onshore wind energy\"]), \"Technology\"] = \"onshore wind\"\n",
    "df.loc[df[\"Technology\"].isin([\"Offshore wind energy\"]), \"Technology\"] = \"offshore wind\"\n",
    "df.loc[\n",
    "    df[\"Technology\"].isin(\n",
    "        [\"Renewable hydropower\", \"Mixed Hydro Plants\", \"Pumped storage\"]\n",
    "    ),\n",
    "    \"Technology\",\n",
    "] = \"hydro\"\n",
    "df.loc[\n",
    "    df[\"Technology\"].isin([\"Other non-renewable energy\", \"Marine energy\"]), \"Technology\"\n",
    "] = \"other\"\n",
    "df.loc[\n",
    "    df[\"Technology\"].isin([\"Liquid biofuels\", \"Biogas\", \"Solid biofuels\"]), \"Technology\"\n",
    "] = \"bioenergy\"\n",
    "df.loc[df[\"Technology\"].isin([\"Geothermal energy\"]), \"Technology\"] = \"geothermal\"\n",
    "df.loc[df[\"Technology\"].isin([\"Natural gas\"]), \"Technology\"] = \"gas\"\n",
    "df.loc[df[\"Technology\"].isin([\"Renewable municipal waste\"]), \"Technology\"] = \"waste\"\n",
    "df.loc[df[\"Technology\"].isin([\"Coal and peat\"]), \"Technology\"] = \"coal\"\n",
    "df.loc[df[\"Technology\"].isin([\"Oil\", \"Fossil fuels n.e.s.\"]), \"Technology\"] = \"oil\"\n",
    "\n",
    "\n",
    "df = df[df.alpha2.isin(country_list)]\n",
    "df[\"p_nom\"] = pd.to_numeric(\n",
    "    df[\"Installed electricity capacity by country/area (MW)\"], errors=\"coerce\"\n",
    ")\n",
    "installed_capacity_irena = (\n",
    "    df.rename(columns={\"Technology\": \"carrier\"})\n",
    "    .groupby([\"alpha2\", \"carrier\"])[\"p_nom\"]\n",
    "    .sum()\n",
    ")\n",
    "# installed_capacity_irena.groupby(\"carrier\").sum()"
   ]
  },
  {
   "cell_type": "markdown",
   "metadata": {},
   "source": [
    "##### Merge datasets by carrier"
   ]
  },
  {
   "cell_type": "code",
   "execution_count": 8,
   "metadata": {},
   "outputs": [],
   "source": [
    "world_ic = installed_capacity_irena.groupby(\"carrier\").sum() / 1000\n",
    "world_ic = world_ic.rename(index={\"bioenergy\": \"Biomass\"})\n",
    "\n",
    "world_ic.index = world_ic.index.str.capitalize()\n",
    "\n",
    "world_pypsa = installed_capacity.groupby(\"carrier\").sum() / 1000\n",
    "if \"load\" in world_pypsa.index:\n",
    "    world_pypsa = world_pypsa.drop(\"load\")\n",
    "world_pypsa.index = world_pypsa.index.str.capitalize()\n",
    "\n",
    "world_compare = pd.concat(\n",
    "    [world_pypsa.rename(\"PyPSA 2020\"), world_ic.rename(\"IRENA 2020\")], axis=1\n",
    ")\n",
    "\n",
    "# Sorting and dropping\n",
    "world_compare = world_compare.drop(\"Waste\")\n",
    "world_compare = world_compare.drop(\"Other\")\n",
    "world_compare = world_compare.sort_index()\n",
    "\n",
    "# Plot\n",
    "ax = world_compare.plot.bar(\n",
    "    ylabel=\"Capacity [GW]\", xlabel=\"Technology\", figsize=(10, 4)\n",
    ").set(xlabel=None)\n",
    "\n",
    "# plt.savefig(\"capacity-validation-all.pdf\", bbox_inches=\"tight\")"
   ]
  },
  {
   "cell_type": "code",
   "execution_count": 9,
   "metadata": {},
   "outputs": [],
   "source": [
    "list_carriers = [\n",
    "    \"Coal\",\n",
    "    \"Gas\",\n",
    "    \"Hydro\",\n",
    "    \"Oil\",\n",
    "    \"Onshore wind\",\n",
    "    \"Solar\",\n",
    "    \"Biomass\",\n",
    "    \"Geothermal\",\n",
    "    \"Nuclear\",\n",
    "]\n",
    "\n",
    "world_compare.loc[list_carriers].plot.bar(\n",
    "    ylabel=\"Capacity [GW]\", xlabel=\"Technology\", figsize=(10, 4)\n",
    ").set(xlabel=None)\n",
    "\n",
    "# plt.savefig(\"capacity-validation.pdf\", bbox_inches=\"tight\")"
   ]
  },
  {
   "cell_type": "markdown",
   "metadata": {},
   "source": [
    "##### Merge dataframes by technology for specific country"
   ]
  },
  {
   "cell_type": "markdown",
   "metadata": {},
   "source": [
    "According to [USAID](https://www.usaid.gov/powerafrica/nigeria), the total installed generation in Nigeria is:\n",
    "- Hydro: 2.062 GW\n",
    "- Gas: 11.972 GW\n",
    "- Wind: 0.01 GW\n",
    "- Solar: 0.007 GW\n",
    "- Other/Diesel/HFO: 2.333 GW\n",
    "\n",
    "Total: 16.384 GW\n",
    "\n",
    "Power Africa new MW to date at financial close: 3.043 GW"
   ]
  },
  {
   "cell_type": "code",
   "execution_count": 10,
   "metadata": {},
   "outputs": [],
   "source": [
    "# Get data from usaid manually\n",
    "usaid_ng = pd.DataFrame(\n",
    "    data=[2.062, 11.972, 0.01, 0.007, 2.333],\n",
    "    index=[\"Hydro\", \"Gas\", \"Wind\", \"Solar\", \"Other/Diesel/HFO\"],\n",
    "    columns=[\"USAID\"],\n",
    ")\n",
    "\n",
    "# Prepare data from usaid\n",
    "usaid_ng.index.name = \"carrier\"\n",
    "\n",
    "usaid_ng.rename(\n",
    "    index={\n",
    "        \"Hydro\": \"hydro\",\n",
    "        \"Gas\": \"gas\",\n",
    "        \"Wind\": \"wind\",\n",
    "        \"Solar\": \"solar\",\n",
    "        \"Other/Diesel/HFO\": \"oil\",\n",
    "    },\n",
    "    inplace=True,\n",
    ")\n",
    "print(\"WARNING: Other/Diesel/HFO is renamed to 'Oil'\")"
   ]
  },
  {
   "cell_type": "code",
   "execution_count": 11,
   "metadata": {},
   "outputs": [],
   "source": [
    "country = \"NG\"\n",
    "country_ic = (\n",
    "    installed_capacity_irena.iloc[\n",
    "        installed_capacity_irena.index.get_level_values(\"alpha2\") == country\n",
    "    ]\n",
    "    / 1000\n",
    ")\n",
    "country_pypsa = (\n",
    "    installed_capacity.iloc[\n",
    "        installed_capacity.index.get_level_values(\"alpha2\") == country\n",
    "    ]\n",
    "    / 1000\n",
    ")\n",
    "country_compare = pd.concat(\n",
    "    [country_pypsa.rename(\"PyPSA 2020\"), country_ic.rename(\"IRENA 2020\")], axis=1\n",
    ")\n",
    "country_compare.index = country_compare.index.get_level_values(1)\n",
    "country_compare = pd.concat([country_compare, usaid_ng], axis=1)"
   ]
  },
  {
   "cell_type": "markdown",
   "metadata": {},
   "source": [
    "Adjust the dataframe"
   ]
  },
  {
   "cell_type": "code",
   "execution_count": 12,
   "metadata": {},
   "outputs": [],
   "source": [
    "# Rename the index according to existing graph in paper\n",
    "required_index = {\n",
    "    # \"coal\": \"Coal\",\n",
    "    \"gas\": \"Gas\",\n",
    "    \"hydro\": \"Hydro\",\n",
    "    \"oil\": \"Oil\",\n",
    "    \"wind\": \"Onshore wind\",\n",
    "    \"solar\": \"Solar\",\n",
    "    # \"Nuclear\": \"Nuclear\",\n",
    "    # \"bioenergy\": \"Bioenergy\",\n",
    "    # \"geothermal\": \"Geothermal\",\n",
    "}\n",
    "\n",
    "country_compare.rename(index=required_index, inplace=True)\n",
    "\n",
    "# select only required technologies\n",
    "country_compare_sel = country_compare.loc[list(required_index.values())]"
   ]
  },
  {
   "cell_type": "markdown",
   "metadata": {},
   "source": [
    "Plot the graph"
   ]
  },
  {
   "cell_type": "code",
   "execution_count": 13,
   "metadata": {},
   "outputs": [],
   "source": [
    "ax = country_compare_sel.plot.bar(ylabel=\"Capacity [GW]\", xlabel=\"\", figsize=(10.5, 5))\n",
    "# optional:save it\n",
    "# ax.figure.savefig(\"capacity-validation-ng.pdf\", bbox_inches=\"tight\")"
   ]
  },
  {
   "cell_type": "markdown",
   "metadata": {},
   "source": [
    "##### Merge dataframes by country"
   ]
  },
  {
   "cell_type": "code",
   "execution_count": 14,
   "metadata": {},
   "outputs": [],
   "source": [
    "from scripts._helpers import two_digits_2_name_country\n",
    "\n",
    "country_ic = (\n",
    "    installed_capacity_irena[\n",
    "        installed_capacity_irena.index.get_level_values(1)\n",
    "        .str.capitalize()\n",
    "        .isin(list_carriers)\n",
    "    ]\n",
    "    .groupby(\"alpha2\")\n",
    "    .sum()\n",
    "    / 1000\n",
    ")\n",
    "country_pypsa = (\n",
    "    installed_capacity[\n",
    "        installed_capacity.index.get_level_values(1)\n",
    "        .str.capitalize()\n",
    "        .isin(list_carriers)\n",
    "    ]\n",
    "    .groupby(\"alpha2\")\n",
    "    .sum()\n",
    "    / 1000\n",
    ")\n",
    "\n",
    "country_compare = pd.concat(\n",
    "    [country_pypsa.rename(\"PyPSA 2020\"), country_ic.rename(\"IRENA 2020\")], axis=1\n",
    ")\n",
    "country_compare.index = pd.Series(\n",
    "    country_compare.index.map(two_digits_2_name_country)\n",
    ").replace(\n",
    "    {\n",
    "        \"Congo, The Democratic Republic of the\": \"DRC\",\n",
    "        \"Central African Republic\": \"CAR\",\n",
    "        \"Tanzania, United Republic of\": \"Tanzania\",\n",
    "    }\n",
    ")\n",
    "plt.rcParams.update({\"font.size\": 20})\n",
    "ax = country_compare.plot.bar(\n",
    "    figsize=(20, 5), ylabel=\"Capacity [GW]\", xlabel=\"Country\", fontsize=20\n",
    ")\n",
    "ax.set(xlabel=None)\n",
    "\n",
    "# plt.savefig(\"capacity-validation-by-country.pdf\", bbox_inches=\"tight\")"
   ]
  },
  {
   "cell_type": "code",
   "execution_count": 15,
   "metadata": {},
   "outputs": [],
   "source": [
    "# Installed capacities of a technology by country\n",
    "# df[df.Technology==\"gas\"].groupby(\"alpha2\")[\"p_nom\"].sum()\n",
    "# installed_capacity_nostorages_select[installed_capacity_nostorages_select.carrier == \"gas\"].groupby(\"alpha2\")[\"p_nom\"].sum()"
   ]
  },
  {
   "cell_type": "markdown",
   "metadata": {},
   "source": [
    "# SEABORN"
   ]
  },
  {
   "cell_type": "code",
   "execution_count": 16,
   "metadata": {},
   "outputs": [],
   "source": [
    "# Initialize the matplotlib figure\n",
    "import seaborn as sns\n",
    "import matplotlib.pyplot as plt"
   ]
  },
  {
   "cell_type": "code",
   "execution_count": 17,
   "metadata": {},
   "outputs": [],
   "source": [
    "world_compare = world_compare.copy()\n",
    "world_compare = world_compare.reset_index()\n",
    "\n",
    "pypsa_values = world_compare.loc[:, [\"carrier\", \"PyPSA 2020\"]]\n",
    "pypsa_values.loc[:, \"sources\"] = \"PyPSA 2020\"\n",
    "pypsa_values.rename(columns={\"PyPSA 2020\": \"capacity [GW]\"}, inplace=True)\n",
    "\n",
    "irena_values = world_compare.loc[:, [\"carrier\", \"IRENA 2020\"]]\n",
    "irena_values.loc[:, \"sources\"] = \"IRENA 2020\"\n",
    "irena_values.rename(columns={\"IRENA 2020\": \"capacity [GW]\"}, inplace=True)\n",
    "\n",
    "seaborn_df = pd.concat([pypsa_values, irena_values])"
   ]
  },
  {
   "cell_type": "markdown",
   "metadata": {},
   "source": [
    "#### Calculate percentage error of technologies"
   ]
  },
  {
   "cell_type": "code",
   "execution_count": 18,
   "metadata": {},
   "outputs": [],
   "source": [
    "pypsa_values.set_index(\"carrier\")[\"capacity [GW]\"] / irena_values.set_index(\"carrier\")[\n",
    "    \"capacity [GW]\"\n",
    "]"
   ]
  },
  {
   "cell_type": "markdown",
   "metadata": {},
   "source": [
    "#### Plot technology map"
   ]
  },
  {
   "cell_type": "code",
   "execution_count": 19,
   "metadata": {},
   "outputs": [],
   "source": [
    "sns.set_theme(style=\"whitegrid\", font_scale=3.5)\n",
    "\n",
    "ax = sns.catplot(\n",
    "    x=\"carrier\",\n",
    "    y=\"capacity [GW]\",\n",
    "    hue=\"sources\",\n",
    "    data=seaborn_df,\n",
    "    palette=\"Blues_d\",\n",
    "    kind=\"bar\",\n",
    "    height=10,\n",
    "    aspect=1.5,\n",
    ")\n",
    "\n",
    "ax.set_xticklabels(rotation=90)\n",
    "sns.move_legend(\n",
    "    ax, \"upper right\", bbox_to_anchor=(0.75, 0.975), frameon=True, title=None\n",
    ")\n",
    "sns.despine(left=True, bottom=False)\n",
    "ax.set(xlabel=None, ylabel=\"Installed Capacity [GW]\", ylim=(0, 100))\n",
    "\n",
    "# plt.savefig(\"capacity-validation-all.pdf\", bbox_inches=\"tight\")"
   ]
  },
  {
   "cell_type": "code",
   "execution_count": 20,
   "metadata": {},
   "outputs": [],
   "source": [
    "country_compare_sel = country_compare_sel.copy()\n",
    "country_compare_sel = country_compare_sel.reset_index()\n",
    "\n",
    "pypsa_values = country_compare_sel.loc[:, [\"carrier\", \"PyPSA 2020\"]]\n",
    "pypsa_values.loc[:, \"sources\"] = \"PyPSA 2020\"\n",
    "pypsa_values.rename(columns={\"PyPSA 2020\": \"capacity [GW]\"}, inplace=True)\n",
    "\n",
    "irena_values = country_compare_sel.loc[:, [\"carrier\", \"IRENA 2020\"]]\n",
    "irena_values.loc[:, \"sources\"] = \"IRENA 2020\"\n",
    "irena_values.rename(columns={\"IRENA 2020\": \"capacity [GW]\"}, inplace=True)\n",
    "\n",
    "usaid_values = country_compare_sel.loc[:, [\"carrier\", \"USAID\"]]\n",
    "usaid_values.loc[:, \"sources\"] = \"USAID 2020\"\n",
    "usaid_values.rename(columns={\"USAID\": \"capacity [GW]\"}, inplace=True)\n",
    "\n",
    "seaborn_df = pd.concat([pypsa_values, irena_values, usaid_values])"
   ]
  },
  {
   "cell_type": "code",
   "execution_count": 21,
   "metadata": {},
   "outputs": [],
   "source": [
    "sns.set_theme(style=\"whitegrid\", font_scale=3.5)\n",
    "\n",
    "ax = sns.catplot(\n",
    "    x=\"carrier\",\n",
    "    y=\"capacity [GW]\",\n",
    "    hue=\"sources\",\n",
    "    data=seaborn_df,\n",
    "    palette=\"Blues_d\",\n",
    "    kind=\"bar\",\n",
    "    height=10,\n",
    "    aspect=1.5,\n",
    ")\n",
    "\n",
    "ax.set_xticklabels(rotation=90)\n",
    "sns.move_legend(\n",
    "    ax, \"upper right\", bbox_to_anchor=(0.75, 0.94), frameon=True, title=None\n",
    ")\n",
    "sns.despine(left=True, bottom=False)\n",
    "ax.set(xlabel=None, ylabel=\"Installed Capacity [GW]\", ylim=(0, 12.5))\n",
    "\n",
    "# plt.savefig(\"capacity-validation-ng.pdf\", bbox_inches=\"tight\")"
   ]
  },
  {
   "cell_type": "code",
   "execution_count": 22,
   "metadata": {},
   "outputs": [],
   "source": [
    "country_compare = country_compare.copy()\n",
    "country_compare = country_compare.reset_index()\n",
    "\n",
    "pypsa_values = country_compare.loc[:, [\"alpha2\", \"PyPSA 2020\"]]\n",
    "pypsa_values.loc[:, \"sources\"] = \"PyPSA 2020\"\n",
    "pypsa_values.rename(columns={\"PyPSA 2020\": \"capacity [GW]\"}, inplace=True)\n",
    "\n",
    "irena_values = country_compare.loc[:, [\"alpha2\", \"IRENA 2020\"]]\n",
    "irena_values.loc[:, \"sources\"] = \"IRENA 2020\"\n",
    "irena_values.rename(columns={\"IRENA 2020\": \"capacity [GW]\"}, inplace=True)\n",
    "\n",
    "seaborn_df = pd.concat([pypsa_values, irena_values])"
   ]
  },
  {
   "cell_type": "code",
   "execution_count": 23,
   "metadata": {},
   "outputs": [],
   "source": [
    "sns.set_theme(style=\"whitegrid\", font_scale=3.5)\n",
    "\n",
    "ax = sns.catplot(\n",
    "    x=\"alpha2\",\n",
    "    y=\"capacity [GW]\",\n",
    "    hue=\"sources\",\n",
    "    data=seaborn_df,\n",
    "    palette=\"Blues_d\",\n",
    "    kind=\"bar\",\n",
    "    height=8,\n",
    "    aspect=4,\n",
    ")\n",
    "\n",
    "ax.set_xticklabels(rotation=90)\n",
    "sns.move_legend(ax, \"upper right\", bbox_to_anchor=(0.8, 0.94), frameon=True, title=None)\n",
    "sns.despine(left=True, bottom=False)\n",
    "ax.set(xlabel=None, ylabel=\"Installed Capacity [GW]\")\n",
    "\n",
    "# plt.savefig(\"capacity-validation-by-country.pdf\", bbox_inches=\"tight\")"
   ]
  },
  {
   "cell_type": "code",
   "execution_count": null,
   "metadata": {},
   "outputs": [],
   "source": []
  }
 ],
 "metadata": {
  "kernelspec": {
   "display_name": "Python 3.9.13 ('pypsa-africa')",
   "language": "python",
   "name": "python3"
  },
  "language_info": {
   "codemirror_mode": {
    "name": "ipython",
    "version": 3
   },
   "file_extension": ".py",
   "mimetype": "text/x-python",
   "name": "python",
   "nbconvert_exporter": "python",
   "pygments_lexer": "ipython3",
   "version": "3.9.13"
  },
  "vscode": {
   "interpreter": {
    "hash": "9cf24c4161cf9b5fb33ef9be908bda1439c8658e530339b1167da5d2ed581719"
   }
  }
 },
 "nbformat": 4,
 "nbformat_minor": 4
}
