{
 "cells": [
  {
   "cell_type": "markdown",
   "metadata": {},
   "source": [
    "# Validation of the PyPSA-Africa solar and wind potential\n",
    "\n",
    "This notebooks investigates the data quality of the African solar and wind potential\n",
    "data by comparing PyPSA, and other research results.\n",
    "\n",
    "To reproduce the findings obtained in this notebook,\n",
    "please run the full snakemake workflow for the Africa.\n",
    "To do so, please set ``countries = [\"Africa\"]`` in the ``config.yaml`` file.\n",
    "\n",
    "Note. An unoptimized prepared network is sufficient for this notebook. "
   ]
  },
  {
   "cell_type": "markdown",
   "metadata": {},
   "source": [
    "#### Generate profiles (if not already available)\n",
    "If you don't have the renewable profiles such as:\n",
    "- `resources/profile_solar.nc`\n",
    "- `resources/profile_onwind.nc`\n",
    "- `resources/profile_offwind-ac.nc`\n",
    "\n",
    "you could try to generate them from the terminal. In this case set the path so that you are located at ~/pypsa-africa. Once you are there, use the command:\n",
    "\n",
    "```\n",
    "snakemake -j 1 resources/profile_{technology}.nc\n",
    "```\n",
    "\n",
    "replace {technology} for the timeseries of interest."
   ]
  },
  {
   "cell_type": "markdown",
   "metadata": {},
   "source": [
    "## Preparation"
   ]
  },
  {
   "cell_type": "markdown",
   "metadata": {},
   "source": [
    "### Import packages"
   ]
  },
  {
   "cell_type": "code",
   "execution_count": 1,
   "metadata": {},
   "outputs": [],
   "source": [
    "import atlite\n",
    "import cartopy.crs as ccrs\n",
    "import xarray as xr\n",
    "import geopandas as gpd\n",
    "#import holoviews as hv\n",
    "import pandas as pd\n",
    "import matplotlib.pyplot as plt\n",
    "import numpy as np\n",
    "import requests\n",
    "import pypsa\n",
    "import shutil\n",
    "from rasterio.plot import show\n",
    "from atlite.gis import shape_availability, ExclusionContainer\n",
    "\n",
    "\n",
    "plt.rcParams[\"figure.figsize\"] = [7, 7]\n",
    "%matplotlib inline"
   ]
  },
  {
   "cell_type": "markdown",
   "metadata": {},
   "source": [
    "### Set main directory to root folder"
   ]
  },
  {
   "cell_type": "code",
   "execution_count": 2,
   "metadata": {},
   "outputs": [],
   "source": [
    "# set current folders\n",
    "import sys\n",
    "\n",
    "sys.path.append(\"../../\")  # adds path to $ .../pypsa-africa\n",
    "from scripts._helpers import sets_path_to_root\n",
    "\n",
    "sets_path_to_root(\"pypsa-africa\")  # moves path to root"
   ]
  },
  {
   "cell_type": "markdown",
   "metadata": {},
   "source": [
    "## 1. Load and open the PyPSA-Africa generated profiles\n",
    "The `build_renewable_profiles` for each technology are stored in the `resources` folder. We read first the path and open then with xarray the .nc file. As you can see there is quite a lot data available.  What you should note is that only the `potential` is grided (can be shown in a nice raster on a map). From the `profiles` we can only retrieve timeseries data without mapping it."
   ]
  },
  {
   "cell_type": "code",
   "execution_count": 4,
   "metadata": {},
   "outputs": [],
   "source": [
    "solar_path = os.path.realpath(\"resources\") + \"/profile_solar.nc\"\n",
    "solar = xr.open_dataset(solar_path)\n",
    "solar\n",
    "\n",
    "wind_path = os.path.realpath(\"resources\") + \"/profile_onwind.nc\"\n",
    "wind = xr.open_dataset(wind_path)\n",
    "wind"
   ]
  },
  {
   "cell_type": "markdown",
   "metadata": {},
   "source": [
    "## 2. Calculate PyPSA-Africa technical potentials\n",
    "- `profiles` are hourly profiles and given as `per unit` values for each bus (region)\n",
    "- `per-unit` is scaled according to the `p_nom_max` of each bus (region)\n",
    "- To calculate the potential across Africa we need to do the following:"
   ]
  },
  {
   "cell_type": "code",
   "execution_count": 5,
   "metadata": {},
   "outputs": [],
   "source": [
    "technical_solar_potential_twh = sum(solar[\"p_nom_max\"]*solar[\"profile\"]).sum()/10**6  # MWh to TWH conversion\n",
    "technical_wind_potential_twh = sum(wind[\"p_nom_max\"]*wind[\"profile\"]).sum()/10**6  # MWh to TWH conversion"
   ]
  },
  {
   "cell_type": "code",
   "execution_count": 21,
   "metadata": {},
   "outputs": [],
   "source": [
    "print(\n",
    "f\"Technical solar potential: {technical_solar_potential_twh.values} \\n\",\n",
    "f\"Technical wind potential: {technical_wind_potential_twh.values}\"\n",
    ")"
   ]
  },
  {
   "cell_type": "markdown",
   "metadata": {},
   "source": [
    "Comparing this to other sources.\n",
    "\n",
    "WIND:\n",
    "- International Finance Cooperation reports 180.000 TWh technical wind potential for cut-in speed of 6.0 m/s (10.1016/j.renene.2021.07.021)\n",
    "- International Finance Cooperation reports 118.700 TWh technical wind potential for cut-in speed of 7.5 m/s (10.1016/j.renene.2021.07.021)\n",
    "- International Finance Cooperation reports 64.700 TWh technical wind potential for cut-in speed of 8.5 m/s (10.1016/j.renene.2021.07.021)\n",
    "- Mentis et al. (2015) reports 34.000 TWh technical wind potential (10.1016/j.renene.2015.03.072)\n",
    "- IRENA 2014 reports 66.600 TWh technical potential for turbines with capacity factors above >30%(Title: Estimating the Renewable Energy Potential in Africa. A GIS-based approach) https://www.irena.org/publications/2014/Aug/Estimating-the-Renewable-Energy-Potential-in-Africa-A-GIS-based-approach\n",
    "\n",
    "SOLAR:\n",
    "- IRENA 2014 reports 660.000 TWh technical solar PV potential (Title: Estimating the Renewable Energy Potential in Africa. A GIS-based approach) https://www.irena.org/publications/2014/Aug/Estimating-the-Renewable-Energy-Potential-in-Africa-A-GIS-based-approach"
   ]
  }
 ],
 "metadata": {
  "interpreter": {
   "hash": "b34881217c78f48c1cb2cd3434cb375f471e98a15a99a90b485a8349351a20f8"
  },
  "kernelspec": {
   "display_name": "Python 3.10.4 ('pypsa-africa')",
   "language": "python",
   "name": "python3"
  },
  "language_info": {
   "codemirror_mode": {
    "name": "ipython",
    "version": 3
   },
   "file_extension": ".py",
   "mimetype": "text/x-python",
   "name": "python",
   "nbconvert_exporter": "python",
   "pygments_lexer": "ipython3",
   "version": "3.9.13"
  }
 },
 "nbformat": 4,
 "nbformat_minor": 4
}
