{
 "cells": [
  {
   "cell_type": "markdown",
   "metadata": {},
   "source": [
    "# Validation of the PyPSA-Africa solar and wind potential\n",
    "\n",
    "This notebooks investigates the data quality of the African solar and wind potential\n",
    "data by comparing PyPSA, and other research results. There are two types of **potentials**, \n",
    "- technical installable power potential [MW] and \n",
    "- technical 'resource' energy potential [MWh]\n",
    "This notebook looks only at the technical resource energy potential that was sometimes cited in literature. The `build_renewable_profile.ipynb` offers plots on the installable resource potential.\n",
    "\n",
    "To reproduce the findings obtained in this notebook,\n",
    "please run the full snakemake workflow for the Africa.\n",
    "To do so, please set ``countries = [\"Africa\"]`` in the ``config.yaml`` file.\n",
    "\n",
    "Note. An unoptimized prepared network is sufficient for this notebook. "
   ]
  },
  {
   "cell_type": "markdown",
   "metadata": {},
   "source": [
    "#### Generate profiles (if not already available)\n",
    "If you don't have the renewable profiles such as:\n",
    "- `resources/profile_solar.nc`\n",
    "- `resources/profile_onwind.nc`\n",
    "- `resources/profile_offwind-ac.nc`\n",
    "\n",
    "you could try to generate them from the terminal. In this case set the path so that you are located at ~/pypsa-africa. Once you are there, use the command:\n",
    "\n",
    "```\n",
    "snakemake -j 1 resources/profile_{technology}.nc\n",
    "```\n",
    "\n",
    "replace {technology} for the timeseries of interest."
   ]
  },
  {
   "cell_type": "markdown",
   "metadata": {},
   "source": [
    "## Preparation"
   ]
  },
  {
   "cell_type": "markdown",
   "metadata": {},
   "source": [
    "### Import packages"
   ]
  },
  {
   "cell_type": "code",
   "execution_count": 1,
   "metadata": {},
   "outputs": [],
   "source": [
    "import atlite\n",
    "import cartopy.crs as ccrs\n",
    "import xarray as xr\n",
    "import geopandas as gpd\n",
    "\n",
    "# import holoviews as hv\n",
    "import pandas as pd\n",
    "import matplotlib.pyplot as plt\n",
    "import numpy as np\n",
    "import requests\n",
    "import pypsa\n",
    "import shutil\n",
    "from rasterio.plot import show\n",
    "from atlite.gis import shape_availability, ExclusionContainer\n",
    "\n",
    "\n",
    "plt.rcParams[\"figure.figsize\"] = [7, 7]\n",
    "%matplotlib inline"
   ]
  },
  {
   "cell_type": "markdown",
   "metadata": {},
   "source": [
    "### Set main directory to root folder"
   ]
  },
  {
   "cell_type": "code",
   "execution_count": 2,
   "metadata": {},
   "outputs": [],
   "source": [
    "# set current folders\n",
    "import sys\n",
    "\n",
    "sys.path.append(\"../../\")  # adds path to $ .../pypsa-africa\n",
    "from scripts._helpers import sets_path_to_root\n",
    "\n",
    "sets_path_to_root(\"pypsa-africa\")  # moves path to root"
   ]
  },
  {
   "cell_type": "markdown",
   "metadata": {},
   "source": [
    "## 1. Load and open the PyPSA-Africa generated profiles\n",
    "The `build_renewable_profiles` for each technology are stored in the `resources` folder. We read first the path and open then with xarray the .nc file. As you can see there is quite a lot data available."
   ]
  },
  {
   "cell_type": "code",
   "execution_count": 3,
   "metadata": {},
   "outputs": [],
   "source": [
    "solar_path = os.path.realpath(\"resources\") + \"/profile_solar.nc\"\n",
    "solar = xr.open_dataset(solar_path)\n",
    "solar\n",
    "\n",
    "wind_path = os.path.realpath(\"resources\") + \"/profile_onwind.nc\"\n",
    "wind = xr.open_dataset(wind_path)\n",
    "wind"
   ]
  },
  {
   "cell_type": "markdown",
   "metadata": {},
   "source": [
    "## 2. Calculate PyPSA-Africa technical potentials\n",
    "- `profiles` are hourly profiles and given as `per unit` values for each bus (region)\n",
    "- `per-unit` is scaled according to the `p_nom_max` of each bus (region)\n",
    "- To calculate the potential across Africa we need to do the following:\n",
    "\n",
    "```p_nom_max * profiles and sum the values for each region and timestep```"
   ]
  },
  {
   "cell_type": "code",
   "execution_count": 4,
   "metadata": {},
   "outputs": [],
   "source": [
    "technical_solar_potential_twh = (\n",
    "    sum(solar[\"p_nom_max\"] * solar[\"profile\"]).sum() / 10**6\n",
    ")  # MWh to TWH conversion\n",
    "technical_wind_potential_twh = (\n",
    "    sum(wind[\"p_nom_max\"] * wind[\"profile\"]).sum() / 10**6\n",
    ")  # MWh to TWH conversion\n",
    "\n",
    "print(\"Socio-technical solar potential Africa with exclusion area - PyPSA 2022:\", technical_solar_potential_twh.values.round(), \"TWh\")\n",
    "print(\"Socio-technical wind potential Africa with exclusion area - PyPSA 2022:\", technical_wind_potential_twh.values.round(), \"TWh\")\n",
    "\n",
    "print(\"Comparing with the below values. Wind seems ok and solar seems low. Important is that PyPSA is mentioning the socio-technical wind potential which is assumed to be between 5-10% of the technical potential. More discussion are given here: https://github.com/pypsa-meets-africa/pypsa-africa/issues/361\")"
   ]
  },
  {
   "cell_type": "markdown",
   "metadata": {},
   "source": [
    "Comparing this to other sources.\n",
    "\n",
    "WIND:\n",
    "- International Finance Cooperation reports 180.000 TWh technical wind potential for cut-in speed of 6.0 m/s (10.1016/j.renene.2021.07.021)\n",
    "- International Finance Cooperation reports 118.700 TWh technical wind potential for cut-in speed of 7.5 m/s (10.1016/j.renene.2021.07.021)\n",
    "- International Finance Cooperation reports 64.700 TWh technical wind potential for cut-in speed of 8.5 m/s (10.1016/j.renene.2021.07.021)\n",
    "- Mentis et al. (2015) reports 34.000 TWh technical wind potential (10.1016/j.renene.2015.03.072)\n",
    "- IRENA 2014 reports 66.600 TWh technical potential for turbines with capacity factors above >30%(Title: Estimating the Renewable Energy Potential in Africa. A GIS-based approach) https://www.irena.org/publications/2014/Aug/Estimating-the-Renewable-Energy-Potential-in-Africa-A-GIS-based-approach\n",
    "\n",
    "SOLAR:\n",
    "- IRENA 2014 reports 660.000 TWh technical solar PV potential (Title: Estimating the Renewable Energy Potential in Africa. A GIS-based approach) https://www.irena.org/publications/2014/Aug/Estimating-the-Renewable-Energy-Potential-in-Africa-A-GIS-based-approach"
   ]
  },
  {
   "cell_type": "markdown",
   "metadata": {},
   "source": [
    "## 3. Wikipedia list of largest PV plant\n",
    "\n",
    "In case the above data is off, we might want to look at the \"installable power density\" [MW/km2]. The installable power density describes how much of the technology can be build in a specific area while being maintainable and techno-economic efficient (reduce shaddow losses and alike). This parameter is an input in too energy system models that finally lead to the technical potential [TW]."
   ]
  },
  {
   "cell_type": "code",
   "execution_count": 5,
   "metadata": {},
   "outputs": [],
   "source": [
    "wikipedia_link = \"https://en.m.wikipedia.org/wiki/List_of_photovoltaic_power_stations\"\n",
    "wikipedia_pv_list = pd.read_html(wikipedia_link)\n",
    "df = pd.DataFrame(wikipedia_pv_list[1])\n",
    "#df"
   ]
  },
  {
   "cell_type": "code",
   "execution_count": 6,
   "metadata": {},
   "outputs": [],
   "source": [
    "# tuning and cleaning\n",
    "df = df.rename(columns={'CapacityMWDC or MWAC\\xa0(*)': \"p_nom\", \"LandSize(km2)\": \"area\"})\n",
    "df.loc[:,\"area\"] = df.loc[:,\"area\"].str.extract('(\\d+)',expand=False)\n",
    "df.loc[:,\"p_nom\"] = df.loc[:,\"p_nom\"].str.extract('(\\d+)',expand=False)\n",
    "df1 = df.copy()\n",
    "df1.dropna(inplace=True, subset= ['area', 'p_nom'])\n",
    "df1.loc[:, \"area\"] = df1[\"area\"].astype(float)\n",
    "df1.loc[:, \"p_nom\"] = df1[\"p_nom\"].astype(float)\n",
    "\n",
    "# manual cleaning\n",
    "df1.loc[59, \"area\"] = 2.6  #  hand checked\n",
    "df1 = df1.drop(2)\n",
    "\n",
    "df1[\"MW/km2\"] = df1[\"p_nom\"]/df1[\"area\"]\n",
    "print(\"Average installed power density\", df1[\"MW/km2\"].mean())\n",
    "print(\"Stats [MW/km2]:\", df1[\"MW/km2\"].describe())\n",
    "print(\"Stats [Year:\", df1[\"Year\"].astype(\"int\").describe())"
   ]
  },
  {
   "cell_type": "markdown",
   "metadata": {},
   "source": [
    "## 4. Comparison to other sources"
   ]
  },
  {
   "cell_type": "code",
   "execution_count": 7,
   "metadata": {},
   "outputs": [],
   "source": [
    "africa_km2 = 30*10**6\n",
    "pv_panel_power_density = 0.2  # kWp/m2  https://en.wikipedia.org/wiki/Solar_panel\n",
    "pv_efficiency = 0.15\n",
    "capacity_factor = 0.2\n",
    "year2hourly = 8700\n",
    "kwh2twh = 10**(-9)\n",
    "mwh2twh = 10**(-6)\n",
    "kw2mw = 10**(-3)\n",
    "m2tokm2 = 10**(-6)\n",
    " \n",
    "# Benban\n",
    "p_nom = 1650  # MW\n",
    "field_area = 37  # km2\n",
    "specific_power_benban = p_nom/field_area  # MW/km2\n",
    "technical_potential_benban = p_nom*mwh2twh*year2hourly*capacity_factor  # TWh\n",
    "\n",
    "\n",
    "# IRENA\n",
    "# Equation: Solar Resource Availability x PV Module Efficiency / Spacing Factor = specific Technical Potential [TWh/km2]\n",
    "solar_availability = 2000  # [kWh/m2/year]\n",
    "pv_efficiency_irena = 0.165  # [%]\n",
    "spacing_factor = 5  # \n",
    "installable_power_density_irena = solar_availability / spacing_factor / year2hourly * kw2mw / m2tokm2\n",
    "\n",
    "# Pietzcker 2014\n",
    "specific_technical_potential_high_pietz = 1/0.009  # [1/km2/MW]\n",
    "specific_technical_potential_low_pietz = 1/0.016  # [1/km2/MW]\n",
    "\n",
    "# Calliope https://github.com/calliope-project/euro-calliope/blob/9f142903f543dcb0634be7fff8b07f33305811ed/config/default.yaml#L40\n",
    "installable_power_density_calliope = 80\n",
    "\n",
    "# back-of-the-envelope calculation\n",
    "installable_power_density_envelope = pv_panel_power_density/spacing_factor/m2tokm2*kw2mw\n",
    "technical_potential_envelope = installable_power_density_envelope * africa_km2 * year2hourly * mwh2twh * capacity_factor\n",
    "\n",
    "# PyPSA-Eur\n",
    "max_installable_power = 40  # [MW/km2]\n",
    "correction_factor = 0.05  #  If 100% are installable only 5% can be used\n",
    "specific_technical_potential = max_installable_power * correction_factor\n",
    "installable_power_density_pypsa = 1.7\n",
    "technical_potential_pypsa = installable_power_density_pypsa * africa_km2 * year2hourly * capacity_factor * mwh2twh\n",
    "\n",
    "\n",
    "# Specific Technical potential [MW/km2]\n",
    "print(\"Investigating config.yaml input for PyPSA-Africa:\")\n",
    "print(\"Installed power density, Benban plant Egypt:\", round(specific_power_benban, 2), \"MW/km2\")\n",
    "print(\"Installable power density, IRENA:\", round(installable_power_density_irena), \"MW/km2\")\n",
    "# Fraunhofer 2022 https://www.ise.fraunhofer.de/content/dam/ise/de/documents/publications/studies/aktuelle-fakten-zur-photovoltaik-in-deutschland.pdf\n",
    "print(\"Installable power density, Fraunhofer 2022:\", round(1, 2) , \"MW/ha which equals\", round(1/0.01, 2) , \"MW/km2\")  # p.40\n",
    "print(\"Installable power density, Fraunhofer 2022 old assumption (2014):\", round(0.35, 2) , \"MW/ha which equals\", round(0.35/0.01, 2) , \"MW/km2\")  # p.41\n",
    "print(\"Installable power density, Pietzer 2014 - high:\", round(specific_technical_potential_high_pietz), \"MW/km2\")\n",
    "print(\"Installable power density, Pietzer 2014 - low:\", round(specific_technical_potential_low_pietz), \"MW/km2\")\n",
    "print(\"Installable power density - Calliope 2022:\", round(installable_power_density_calliope, 2), \"MW/km2\")\n",
    "print(\"Installable power density, Back-of-the-envelope calculation:\", round(installable_power_density_envelope), \"MW/km2\")\n",
    "print(\"Installable power density - PyPSA 2022:\", round(installable_power_density_pypsa, 2), \"MW/km2\")\n",
    "print(\"Installable power density - New PyPSA 2022:\", round(4.6, 2), \"MW/km2.  # Based on discussion in https://github.com/pypsa-meets-africa/pypsa-africa/issues/361\")  \n",
    "\n",
    "# Specific Technical potential [TWh/km2]\n",
    "print(\"\")\n",
    "print(\"Solar. Outputs:\")\n",
    "print(\"Specific technical potential, Back-of-the-envelope:\", round(technical_potential_envelope/africa_km2, 2), \"TWh/km2\" )\n",
    "print(\"Specific technical potential, oberved in Benban:\", round(technical_potential_benban/field_area, 3), \"TWh/km2\")\n",
    "print(\"Specific socio-technical potential without exclusion area, PyPSA:\", round(technical_potential_pypsa/africa_km2, 3), \"TWh/km2\")\n",
    "print(\"Specific socio-technical potential with exclusion area, PyPSA:\", (technical_solar_potential_twh/africa_km2).values.round(3), \"TWh/km2\")\n",
    "print(\"Specific socio-technical potential with exclusion area, New PyPSA 2022:\", (technical_solar_potential_twh*(4.6/1.7)/africa_km2).values.round(3), \"TWh/km2.  # Driver is the installable power density\")\n",
    "\n",
    "# Technical potential [TWh]\n",
    "print(\"\")\n",
    "print(\"Technical potential Africa, Back-of-the-envelope calculation without exclusion areas:\", round(technical_potential_envelope), \"TWh\")\n",
    "print(\"Technical potential with exclusion areas - IRENA: 660000 TWh\")\n",
    "print(\"Socio-technical potential Africa without exclusion area - PyPSA 2022:\", round(technical_potential_pypsa), \"TWh\")\n",
    "print(\"Socio-technical potential Africa with exclusion area - PyPSA 2022:\", technical_solar_potential_twh.values.round(), \"TWh\")\n",
    "print(\"Socio-technical potential Africa with exclusion area - New PyPSA 2022:\", (technical_solar_potential_twh*(4.6/1.7)).values.round(), \"TWh.  # Driver is the installable power density\")\n",
    "print(\"Technical potential, observed in Benban:\", round(technical_potential_benban), \"TWh\")\n",
    "\n",
    "print(\"\")\n",
    "print(\"Wind. Outputs:\")\n",
    "print(\"Socio-technical potential Africa with exclusion area - PyPSA 2022:\", technical_wind_potential_twh.values.round(), \"TWh\")"
   ]
  }
 ],
 "metadata": {
  "interpreter": {
   "hash": "b34881217c78f48c1cb2cd3434cb375f471e98a15a99a90b485a8349351a20f8"
  },
  "kernelspec": {
   "display_name": "Python 3.10.4 ('pypsa-africa')",
   "language": "python",
   "name": "python3"
  },
  "language_info": {
   "codemirror_mode": {
    "name": "ipython",
    "version": 3
   },
   "file_extension": ".py",
   "mimetype": "text/x-python",
   "name": "python",
   "nbconvert_exporter": "python",
   "pygments_lexer": "ipython3",
   "version": "3.9.13"
  }
 },
 "nbformat": 4,
 "nbformat_minor": 4
}
