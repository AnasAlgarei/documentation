{
 "cells": [
  {
   "cell_type": "code",
   "execution_count": 1,
   "metadata": {},
   "outputs": [],
   "source": [
    "# Unzip all zip files of hydrobasins\n",
    "\n",
    "import os, zipfile\n",
    "\n",
    "dir_name = \".\"\n",
    "extension = \".zip\"\n",
    "\n",
    "os.chdir(dir_name)  # change directory from working dir to dir with files\n",
    "\n",
    "for item in os.listdir(dir_name):  # loop through items in dir\n",
    "    if item.endswith(extension):  # check for \".zip\" extension\n",
    "        file_name = os.path.abspath(item)  # get full path of files\n",
    "        zip_ref = zipfile.ZipFile(file_name)  # create zipfile object\n",
    "        zip_ref.extractall(dir_name)  # extract file to dir\n",
    "        zip_ref.close()  # close file\n",
    "        os.remove(file_name)  # delete zipped file"
   ]
  },
  {
   "cell_type": "code",
   "execution_count": 9,
   "metadata": {},
   "outputs": [],
   "source": [
    "os.mkdir(\"world\")"
   ]
  },
  {
   "cell_type": "code",
   "execution_count": 16,
   "metadata": {},
   "outputs": [],
   "source": [
    "# merge all shapes by level\n",
    "\n",
    "import geopandas as gpd\n",
    "\n",
    "levels = [4, 5, 6]\n",
    "\n",
    "for l in levels:\n",
    "    geodf = gpd.GeoDataFrame()\n",
    "\n",
    "    print(\"Level %d\" % l)\n",
    "\n",
    "    for item in os.listdir(dir_name):  # loop through items in dir\n",
    "        if item.endswith(\"lev%02d_v1c.shp\" % l):  # check for \".zip\" extension\n",
    "            file_name = os.path.abspath(item)  # get full path of files\n",
    "            gpd_data = gpd.read_file(file_name)  # create zipfile object\n",
    "            geodf = geodf.append(gpd_data)\n",
    "            print(item)\n",
    "\n",
    "    geodf.to_file(\"./world/hybas_world_lev%02d_v1c.shp\" % l)"
   ]
  },
  {
   "cell_type": "code",
   "execution_count": 17,
   "metadata": {},
   "outputs": [],
   "source": [
    "data = gpd.read_file(\"./world/hybas_world_lev%02d_v1c.shp\" % 6)\n",
    "\n",
    "data.plot()"
   ]
  },
  {
   "cell_type": "code",
   "execution_count": 25,
   "metadata": {},
   "outputs": [],
   "source": [
    "data = gpd.read_file(\n",
    "    \"C:\\\\Users\\\\Davide\\\\Downloads\\\\WDPA_WDOECM_Feb2022_Public_WA_shp\\\\file_to_zip\\\\WDPA_WDOECM_Feb2022_Public_WA_shp_0\\\\WDPA_WDOECM_Feb2022_Public_AS_shp-polygons.shp\"\n",
    ")\n",
    "data.plot()"
   ]
  },
  {
   "cell_type": "code",
   "execution_count": 27,
   "metadata": {},
   "outputs": [],
   "source": [
    "\"\"\"\n",
    "Module to zip the desired folders to be stored in google drive, or equivalent\n",
    "\"\"\"\n",
    "import os\n",
    "import zipfile\n",
    "from os.path import basename\n",
    "\n",
    "# Zip the files from given directory that matches the filter\n",
    "\n",
    "\n",
    "def zipFilesInDir(dirName, zipFileName, filter):\n",
    "    # create a ZipFile object\n",
    "    with zipfile.ZipFile(zipFileName, \"w\", compression=zipfile.ZIP_DEFLATED) as zipObj:\n",
    "        # Iterate over all the files in directory\n",
    "        for folderName, subfolders, filenames in os.walk(dirName):\n",
    "            for filename in filenames:\n",
    "                if filter(filename):\n",
    "                    # create complete filepath of file in directory\n",
    "                    filePath = os.path.join(folderName, filename)\n",
    "                    # Add file to zip\n",
    "                    zipObj.write(filePath, filePath.replace(dirName, \"\"))"
   ]
  },
  {
   "cell_type": "code",
   "execution_count": 33,
   "metadata": {},
   "outputs": [],
   "source": [
    "zipFilesInDir(\n",
    "    \"C:\\\\Users\\\\Davide\\\\Downloads\\\\data\\\\data\",\n",
    "    \"C:\\\\Users\\\\Davide\\\\Downloads\\\\data\\\\data.zip\",\n",
    "    lambda x: True,\n",
    ")"
   ]
  }
 ],
 "metadata": {
  "interpreter": {
   "hash": "c1e62af54412488b25bf8bea8d0194917efe6210f00e85af67f109ae51dc8d71"
  },
  "kernelspec": {
   "display_name": "Python 3.9.7 ('pypsa-africa')",
   "language": "python",
   "name": "python3"
  },
  "language_info": {
   "codemirror_mode": {
    "name": "ipython",
    "version": 3
   },
   "file_extension": ".py",
   "mimetype": "text/x-python",
   "name": "python",
   "nbconvert_exporter": "python",
   "pygments_lexer": "ipython3",
   "version": "3.9.7"
  },
  "orig_nbformat": 4
 },
 "nbformat": 4,
 "nbformat_minor": 2
}
