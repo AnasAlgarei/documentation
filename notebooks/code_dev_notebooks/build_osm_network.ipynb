{
 "cells": [
  {
   "cell_type": "markdown",
   "id": "6aed4edb",
   "metadata": {},
   "source": [
    "This notebook is for snapping of substations to lines"
   ]
  },
  {
   "cell_type": "code",
   "execution_count": 2,
   "id": "8419f0fd",
   "metadata": {},
   "outputs": [],
   "source": [
    "import os\n",
    "import matplotlib.pyplot as plt\n",
    "import geopandas as gpd\n",
    "\n",
    "# import geoplot\n",
    "import pandas as pd\n",
    "import numpy as np\n",
    "from shapely.geometry import LineString\n",
    "from shapely.geometry import Point\n",
    "\n",
    "# change current directory\n",
    "import os\n",
    "import sys\n",
    "\n",
    "# change current directory to pypsa-earth folder\n",
    "os.chdir(\"../../../pypsa-earth\")"
   ]
  },
  {
   "cell_type": "markdown",
   "id": "8bb911a5",
   "metadata": {},
   "source": [
    "# Africa shape data"
   ]
  },
  {
   "cell_type": "code",
   "execution_count": 3,
   "id": "7574d348",
   "metadata": {},
   "outputs": [],
   "source": [
    "world = gpd.read_file(gpd.datasets.get_path(\"naturalearth_lowres\"))\n",
    "africa = world.query('continent == \"Africa\"')\n",
    "nigeriaplot = world.query('name == \"Nigeria\"')\n",
    "# world"
   ]
  },
  {
   "cell_type": "markdown",
   "id": "ea95e636",
   "metadata": {},
   "source": [
    "# Load data"
   ]
  },
  {
   "cell_type": "code",
   "execution_count": 4,
   "id": "b3aac5b5",
   "metadata": {},
   "outputs": [],
   "source": [
    "# pathg = os.path.realpath(\"data\")+'/africa_all_generators.geojson' # Generators are not required in base_network\n",
    "paths = os.path.realpath(\"resources/osm/clean\") + \"/africa_all_substations.geojson\"\n",
    "pathl = os.path.realpath(\"resources/osm/clean\") + \"/africa_all_lines.geojson\"\n",
    "\n",
    "# generators = gpd.read_file(pathg).set_crs(epsg=4326, inplace=True)\n",
    "substations = gpd.read_file(paths).set_crs(epsg=4326, inplace=True)\n",
    "lines = gpd.read_file(pathl).set_crs(epsg=4326, inplace=True)"
   ]
  },
  {
   "cell_type": "code",
   "execution_count": 5,
   "id": "5a45fb32-f663-4c3e-ae17-4c02d4dbd884",
   "metadata": {},
   "outputs": [],
   "source": [
    "lines"
   ]
  },
  {
   "cell_type": "code",
   "execution_count": null,
   "id": "44bb94f5",
   "metadata": {},
   "outputs": [],
   "source": [
    "print(os.path.realpath(\"resources/osm/clean\"))"
   ]
  },
  {
   "cell_type": "code",
   "execution_count": 6,
   "id": "87c7456e",
   "metadata": {},
   "outputs": [],
   "source": [
    "# Filter only Nigeria\n",
    "lines_ng = lines[lines.loc[:, \"country\"] == \"NG\"].copy()\n",
    "substations_ng = substations[substations.loc[:, \"country\"] == \"NG\"].copy()"
   ]
  },
  {
   "cell_type": "code",
   "execution_count": 7,
   "id": "692ea16a-a71d-475a-9719-26c63b24e557",
   "metadata": {},
   "outputs": [],
   "source": [
    "lines_ng"
   ]
  },
  {
   "cell_type": "code",
   "execution_count": 8,
   "id": "fbd5aa94",
   "metadata": {},
   "outputs": [],
   "source": [
    "# Assign to every line a start and end point\n",
    "\n",
    "lines_ng[\"bounds\"] = lines_ng[\"geometry\"].boundary  # create start and end point\n",
    "# splits into coordinates\n",
    "lines_ng[\"bus0_lon\"] = lines_ng[\"bounds\"].bounds.iloc[:, 0]\n",
    "lines_ng[\"bus0_lat\"] = lines_ng[\"bounds\"].bounds.iloc[:, 1]\n",
    "lines_ng[\"bus1_lon\"] = lines_ng[\"bounds\"].bounds.iloc[:, 2]\n",
    "lines_ng[\"bus1_lat\"] = lines_ng[\"bounds\"].bounds.iloc[:, 3]\n",
    "\n",
    "lines_ng[\"bus_0_coors\"] = lines_ng[\"bounds\"].apply(lambda mp: mp[0])\n",
    "lines_ng[\"bus_1_coors\"] = lines_ng[\"bounds\"].apply(lambda mp: mp[1])"
   ]
  },
  {
   "cell_type": "code",
   "execution_count": 9,
   "id": "29dd46e2-a3e8-498e-b94c-3d8e91159140",
   "metadata": {},
   "outputs": [],
   "source": [
    "lines_ng"
   ]
  },
  {
   "cell_type": "code",
   "execution_count": 10,
   "id": "16b37825",
   "metadata": {},
   "outputs": [],
   "source": [
    "# lines_ng[lines_ng[\"length\"] > 10000].sort_values(\"length\").describe()\n",
    "# substations_ng"
   ]
  },
  {
   "cell_type": "markdown",
   "id": "86842039",
   "metadata": {},
   "source": [
    "# Case 1: Create bus dataframe from line.csv (not using existing substation dataframe)"
   ]
  },
  {
   "cell_type": "markdown",
   "id": "b267e508",
   "metadata": {},
   "source": [
    "### Create bus_id for each line ending"
   ]
  },
  {
   "cell_type": "code",
   "execution_count": 11,
   "id": "8dae740c",
   "metadata": {},
   "outputs": [],
   "source": [
    "bus_s = gpd.GeoDataFrame(columns=substations_ng.columns)\n",
    "bus_e = gpd.GeoDataFrame(columns=substations_ng.columns)"
   ]
  },
  {
   "cell_type": "code",
   "execution_count": 12,
   "id": "0f1c1b0b",
   "metadata": {},
   "outputs": [],
   "source": [
    "# Read information from line.csv\n",
    "bus_s[[\"voltage\", \"lon\", \"lat\", \"geometry\", \"country\"]] = lines_ng[\n",
    "    [\"voltage\", \"bus0_lon\", \"bus0_lat\", \"bus_0_coors\", \"country\"]\n",
    "]  # line start points\n",
    "bus_e[[\"voltage\", \"lon\", \"lat\", \"geometry\", \"country\"]] = lines_ng[\n",
    "    [\"voltage\", \"bus1_lon\", \"bus1_lat\", \"bus_1_coors\", \"country\"]\n",
    "]  # line end points\n",
    "bus_all = bus_s.append(bus_e).reset_index(drop=True)"
   ]
  },
  {
   "cell_type": "code",
   "execution_count": 14,
   "id": "1ddc1ec3",
   "metadata": {},
   "outputs": [],
   "source": [
    "# Assign index to bus_id\n",
    "bus_all.loc[:, \"bus_id\"] = bus_all.index\n",
    "bus_all"
   ]
  },
  {
   "cell_type": "markdown",
   "id": "47f3f8cb",
   "metadata": {},
   "source": [
    "### V1. Create station_id at same bus location\n",
    "\n",
    "- We saw that buses are not connected exactly at one point, they are usually connected to a substation \"area\" (analysed on maps)\n",
    "- Create station_id at exactly the same location might therefore be not always correct\n",
    "- Though as you can see below, it might be still sometime the case. Examples are **station 4** (2 lines with the same voltage connect at the same point) and **station 23** (4 lines with two different voltages connect at the same point)\n",
    "\n",
    "#TODO: Filter out the generator lines - defined as going from generator to the next station which is connected to a load. Excluding generator lines make proably sense because they are not transmission expansion relevant. For now we simplify and include generator lines.\n"
   ]
  },
  {
   "cell_type": "code",
   "execution_count": 15,
   "id": "d00ea8e3",
   "metadata": {},
   "outputs": [],
   "source": [
    "# If same location/geometry make station\n",
    "bus_all_v1 = bus_all\n",
    "bus_all_v1[\"station_id\"] = bus_all_v1.groupby([\"lon\", \"lat\"]).ngroup()\n",
    "\n",
    "## INFO, case nigeria\n",
    "# bus_id 0:899\n",
    "# station_id 0:791\n",
    "# Means, only a few bus_id's at same location\n",
    "bus_all_v1"
   ]
  },
  {
   "cell_type": "code",
   "execution_count": 28,
   "id": "21ffc196",
   "metadata": {},
   "outputs": [],
   "source": [
    "# Add station_id to line dataframe\n",
    "n_row = int(bus_all.shape[0] / 2)  # row length\n",
    "lines_ng_v1 = lines_ng.reset_index(drop=True)\n",
    "lines_ng_v1[\"bus0\"] = bus_all.loc[0 : (n_row - 1), [\"bus_id\"]]\n",
    "lines_ng_v1[\"bus1\"] = bus_all.loc[(n_row):, [\"bus_id\"]].reset_index(drop=True)"
   ]
  },
  {
   "cell_type": "code",
   "execution_count": 29,
   "id": "e34e10ad",
   "metadata": {},
   "outputs": [],
   "source": [
    "# display(lines_ng_v1)\n",
    "# display(bus_all_v1)"
   ]
  },
  {
   "cell_type": "code",
   "execution_count": 132,
   "id": "82b69c62",
   "metadata": {},
   "outputs": [],
   "source": [
    "# Removing the NaN\n",
    "bus_all_v1[\"dc\"] = \"False\"\n",
    "bus_all_v1[\"symbol\"] = \"False\"\n",
    "bus_all_v1[\"under_construction\"] = \"False\"\n",
    "bus_all_v1[\"tag_substation\"] = \"False\"\n",
    "bus_all_v1[\"tag_area\"] = \"False\"\n",
    "bus_all_v1[\"substation_lv\"] = True"
   ]
  },
  {
   "cell_type": "code",
   "execution_count": 158,
   "id": "c336af8d-4fe0-40bd-abf9-6ee198832572",
   "metadata": {},
   "outputs": [],
   "source": [
    "import shapely\n",
    "\n",
    "shapely.__version__\n",
    "from shapely.validation import make_valid"
   ]
  },
  {
   "cell_type": "markdown",
   "id": "0cec3c64-300c-4c5d-a7b9-8e3c6e92ee7b",
   "metadata": {},
   "source": [
    "## Decide on LV_Substation"
   ]
  },
  {
   "cell_type": "code",
   "execution_count": 145,
   "id": "2ec5327f-b3d8-4b30-92e6-5508ff309408",
   "metadata": {},
   "outputs": [],
   "source": [
    "bus_with_stations_duplicates = bus_all_v1[\n",
    "    bus_all_v1.station_id.duplicated(keep=False)\n",
    "].sort_values(by=[\"station_id\", \"voltage\"])\n",
    "# bus_with_stations_duplicates"
   ]
  },
  {
   "cell_type": "code",
   "execution_count": 138,
   "id": "68c5e382-1f03-47a2-a956-1b2962f564cf",
   "metadata": {},
   "outputs": [],
   "source": [
    "lv_bus_at_station_duplicates = (\n",
    "    bus_all_v1[bus_all_v1.station_id.duplicated(keep=False)]\n",
    "    .sort_values(by=[\"station_id\", \"voltage\"])\n",
    "    .drop_duplicates(subset=[\"station_id\"])\n",
    ")\n",
    "# lv_bus_at_station_duplicates"
   ]
  },
  {
   "cell_type": "code",
   "execution_count": 147,
   "id": "c1bf11c5-3ac5-4895-9209-8a36cdd47eff",
   "metadata": {},
   "outputs": [],
   "source": [
    "# Set all buses with station duplicates \"False\"\n",
    "bus_all_v1.loc[bus_with_stations_duplicates.index, \"substation_lv\"] = False\n",
    "# Set lv_buses with station duplicates \"True\"\n",
    "bus_all_v1.loc[lv_bus_at_station_duplicates.index, \"substation_lv\"] = True"
   ]
  },
  {
   "cell_type": "code",
   "execution_count": 165,
   "id": "ef811ce4-9690-4fde-8576-623d3221a670",
   "metadata": {},
   "outputs": [],
   "source": [
    "# Check if bus in country exist\n",
    "bus_all_v1[(bus_all_v1[\"country\"] == \"TN\")]"
   ]
  },
  {
   "cell_type": "code",
   "execution_count": 154,
   "id": "b1cfbab4-b6be-4386-b53b-2d71cc582f13",
   "metadata": {},
   "outputs": [],
   "source": [
    "bus_all_v1[bus_all_v1[\"substation_lv\"] == True]"
   ]
  },
  {
   "cell_type": "code",
   "execution_count": 148,
   "id": "2cdcb741-7083-42d9-ac28-485db23b6068",
   "metadata": {},
   "outputs": [],
   "source": [
    "# Check\n",
    "bus_all_v1[bus_all_v1[\"station_id\"] == 20]"
   ]
  },
  {
   "cell_type": "markdown",
   "id": "ce07d586-e811-49da-9aff-dc127d35d3f5",
   "metadata": {},
   "source": [
    "- If. station id the same\n",
    "- Then. find bus with min value\n",
    "- If. min has two/NA\n",
    "- Then. pick first of the duplicates\n",
    "- Action set lv_substation = True "
   ]
  },
  {
   "cell_type": "code",
   "execution_count": null,
   "id": "8da7a677",
   "metadata": {},
   "outputs": [],
   "source": [
    "## Generate Files for base_network (CSV)\n",
    "\n",
    "### lines\n",
    "outputfile_partial = os.path.join(\n",
    "    os.getcwd(), \"data\", \"base_network\", \"africa_all\" + \"_lines\" + \"_build_network\"\n",
    ")  # Output file directory\n",
    "\n",
    "if not os.path.exists(outputfile_partial):\n",
    "    os.makedirs(\n",
    "        os.path.dirname(outputfile_partial), exist_ok=True\n",
    "    )  #  create clean directoryif not already exist\n",
    "\n",
    "lines_ng_v1.to_csv(outputfile_partial + \".csv\")  # Generate CSV\n",
    "\n",
    "\n",
    "#### buses\n",
    "outputfile_partial = os.path.join(\n",
    "    os.getcwd(), \"data\", \"base_network\", \"africa_all\" + \"_buses\" + \"_build_network\"\n",
    ")  # Output file directory\n",
    "\n",
    "if not os.path.exists(outputfile_partial):\n",
    "    os.makedirs(\n",
    "        os.path.dirname(outputfile_partial), exist_ok=True\n",
    "    )  #  create clean directoryif not already exist\n",
    "\n",
    "bus_all_v1.to_csv(outputfile_partial + \".csv\")  # Generate CSV"
   ]
  },
  {
   "cell_type": "markdown",
   "id": "98252377",
   "metadata": {},
   "source": [
    "# Inference (Quick and Dirty) - No Guarantee"
   ]
  },
  {
   "cell_type": "code",
   "execution_count": null,
   "id": "dca62690",
   "metadata": {},
   "outputs": [],
   "source": [
    "cdf = bus_all_v1.to_crs(\"EPSG:3857\")"
   ]
  },
  {
   "cell_type": "code",
   "execution_count": null,
   "id": "d9b8949e",
   "metadata": {},
   "outputs": [],
   "source": [
    "from itertools import combinations\n",
    "\n",
    "series = cdf.geometry\n",
    "max_distance = 100\n",
    "\n",
    "points_within = []\n",
    "for i1, i2 in combinations(\n",
    "    range(0, series.shape[0] - 1), 2\n",
    "):  # Iterate over all pairs/combinations of indices\n",
    "    if 0 < series[i1].distance(series[i2]) <= max_distance:\n",
    "        points_within.append([i1, i2])"
   ]
  },
  {
   "cell_type": "code",
   "execution_count": null,
   "id": "f4fdf5fc",
   "metadata": {},
   "outputs": [],
   "source": [
    "# points_within\n",
    "for points in points_within:\n",
    "    fi = points[0]\n",
    "    si = points[1]\n",
    "    bus_all_v1.at[si, \"station_id\"] = bus_all_v1.iloc[fi][\"station_id\"]"
   ]
  },
  {
   "cell_type": "code",
   "execution_count": null,
   "id": "d44b1a36",
   "metadata": {},
   "outputs": [],
   "source": [
    "bus_all_v1"
   ]
  },
  {
   "cell_type": "code",
   "execution_count": null,
   "id": "197c3fd2",
   "metadata": {},
   "outputs": [],
   "source": [
    "bus_all_v1.groupby([\"station_id\"]).count()"
   ]
  },
  {
   "cell_type": "markdown",
   "id": "41a6fc4f",
   "metadata": {},
   "source": [
    "# Inference (Probably a better method) - For the Archives"
   ]
  },
  {
   "cell_type": "markdown",
   "id": "4b37efe1",
   "metadata": {},
   "source": [
    "This method will be implemented once cleaning is completed. See method in Powermap for how it is supposed to be done in the correct way"
   ]
  },
  {
   "cell_type": "code",
   "execution_count": null,
   "id": "a55101c8",
   "metadata": {},
   "outputs": [],
   "source": [
    "x = cdf.buffer(100)\n",
    "neighbours = cdf.intersection(x)\n",
    "display(neighbours)\n",
    "# print all the nearby points\n",
    "# display(x)"
   ]
  }
 ],
 "metadata": {
  "interpreter": {
   "hash": "d9c13fc6442bf1b8f9598850facaf8fef6fb0663206d3863adab308b8c559389"
  },
  "kernelspec": {
   "display_name": "toast",
   "language": "python",
   "name": "toast"
  },
  "language_info": {
   "codemirror_mode": {
    "name": "ipython",
    "version": 3
   },
   "file_extension": ".py",
   "mimetype": "text/x-python",
   "name": "python",
   "nbconvert_exporter": "python",
   "pygments_lexer": "ipython3",
   "version": "3.9.6"
  }
 },
 "nbformat": 4,
 "nbformat_minor": 5
}
