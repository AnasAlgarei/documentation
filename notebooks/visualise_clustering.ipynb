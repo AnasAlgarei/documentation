{
 "cells": [
  {
   "cell_type": "code",
   "execution_count": 1,
   "id": "0f724c93-3bd0-49ed-9b0d-5b838f1eaaaf",
   "metadata": {},
   "outputs": [],
   "source": [
    "import pypsa\n",
    "import cartopy.crs as ccrs\n",
    "import pandas as pd\n",
    "import geopandas as gpd\n",
    "import matplotlib.pyplot as plt"
   ]
  },
  {
   "cell_type": "code",
   "execution_count": 2,
   "id": "ed9111d4-c924-4ed8-8fbf-0a22c618fb5c",
   "metadata": {},
   "outputs": [],
   "source": [
    "#customize your plot\n",
    "resolutions = [4, 14, 54] # must be 3 numbers\n",
    "plot_capfacs = \"solar\" # colors in the back represent capacity factors for this technology\n",
    "cmap = \"Greys\" # colormap for upper technology\n",
    "red_linewidth = 3\n",
    "red_bussizes = 5e-2"
   ]
  },
  {
   "cell_type": "code",
   "execution_count": 3,
   "id": "69f19366-26f8-4113-a557-500c9140ada2",
   "metadata": {},
   "outputs": [],
   "source": [
    "fig, axes = plt.subplots(2,3, subplot_kw={\"projection\":ccrs.PlateCarree()}, figsize=(17,9))\n",
    "plt.subplots_adjust(left=None, bottom=None, right=None, top=None, wspace=0, hspace=.15)\n",
    "\n",
    "country = gpd.read_file('data-max/country_shapes.geojson')\n",
    "\n",
    "c = 0\n",
    "for ax in axes[0,:]:\n",
    "    n = pypsa.Network(f'data-max/elec_s_{resolutions[c]}.nc')\n",
    "    r = gpd.read_file(f'data-max/regions_onshore_elec_s_{resolutions[c]}.geojson').set_index('name')\n",
    "    factor = n.generators_t.p_max_pu.filter(like=plot_capfacs).mean()\n",
    "    factor.index = [idx.split(f' {plot_capfacs}')[0] for idx in factor.index]\n",
    "    r['factor'] = factor\n",
    "    \n",
    "    n.plot(color_geomap=True, bus_colors='red', bus_sizes=red_bussizes, line_colors='red', line_widths=red_linewidth, ax=ax)\n",
    "    r.boundary.plot(ax=ax, color='red', linewidth=1, alpha=.5)\n",
    "    r.plot(ax=ax, column='factor', cmap=cmap, alpha=.5)\n",
    "    country.boundary.plot(ax=ax, color='black', alpha=.75)\n",
    "    c += 1\n",
    "    \n",
    "c = 0\n",
    "n = pypsa.Network(f'data-max/elec_s_4.nc')\n",
    "r = gpd.read_file(f'data-max/regions_onshore_elec_s_4.geojson').set_index('name')\n",
    "b = pd.read_csv('data-max/busmap_elec_s_4.csv', index_col=0).squeeze(\"columns\")\n",
    "\n",
    "for ax in axes[1,:]:\n",
    "    n2 = pypsa.Network(f'data-max/elec_s_{resolutions[c]}.nc')\n",
    "    r2 = gpd.read_file(f'data-max/regions_onshore_elec_s_{resolutions[c]}.geojson').set_index('name')\n",
    "    factor = n2.generators_t.p_max_pu.filter(like=plot_capfacs).mean()\n",
    "    factor.index = [idx.split(f' {plot_capfacs}')[0] for idx in factor.index]\n",
    "    r2['factor'] = factor\n",
    "    \n",
    "    b2 = pd.read_csv(f'data-max/busmap_elec_s_{resolutions[c]}.csv', index_col=0).squeeze(\"columns\")\n",
    "    n2.mremove(\"Line\", n2.lines.index)\n",
    "    \n",
    "    debug=0\n",
    "    for nb in b.unique():\n",
    "        nl = b2.loc[b[b==nb].index].unique()\n",
    "        nb = n.buses.loc[nb]\n",
    "        nb.name = nb.name+' ref'\n",
    "        n2.madd(\"Bus\", names=[nb.name], x=nb.x, y=nb.y)\n",
    "        n2.madd(\"Line\", names=nl + f' ref line {debug}', bus0=[nb.name]*len(nl), bus1=nl)\n",
    "\n",
    "        debug+=1\n",
    "    \n",
    "    n.plot(color_geomap=True, bus_colors='red', bus_sizes=red_bussizes, line_colors='red', line_widths=red_linewidth, ax=ax)\n",
    "    n2.plot(bus_colors='grey', bus_sizes=1e-2, line_colors='grey', zorder=0, ax=ax)\n",
    "    r2.boundary.plot(ax=ax, color='grey', linewidth=.25, alpha=.5)\n",
    "    r2.plot(ax=ax, column='factor', cmap=cmap, alpha=.5)\n",
    "    r.boundary.plot(ax=ax, color='red', linewidth=1, alpha=.5)\n",
    "    country.boundary.plot(ax=ax, color='black', alpha=.75)\n",
    "    c += 1\n",
    "\n",
    "axes[0,1].set_title('Clustering all information simultaneously', fontsize=15)#, FontWeight = 'bold')\n",
    "axes[1,1].set_title('Possibility to increase intra-nodal siting information', fontsize=15)#, FontWeight = 'bold')\n",
    "\n",
    "# Draw a horizontal line\n",
    "line = plt.Line2D([.14, .89], [.52, .52], transform=fig.transFigure, color=\"black\")\n",
    "fig.add_artist(line)\n",
    "\n",
    "plt.savefig('max_plot.pdf', bbox_inches='tight')\n",
    "plt.show()"
   ]
  },
  {
   "cell_type": "code",
   "execution_count": null,
   "id": "5ed81ffa-e992-43af-b348-50cbc4c5ca96",
   "metadata": {},
   "outputs": [],
   "source": []
  }
 ],
 "metadata": {
  "kernelspec": {
   "display_name": "Python 3 (ipykernel)",
   "language": "python",
   "name": "python3"
  },
  "language_info": {
   "codemirror_mode": {
    "name": "ipython",
    "version": 3
   },
   "file_extension": ".py",
   "mimetype": "text/x-python",
   "name": "python",
   "nbconvert_exporter": "python",
   "pygments_lexer": "ipython3",
   "version": "3.10.4"
  }
 },
 "nbformat": 4,
 "nbformat_minor": 5
}
